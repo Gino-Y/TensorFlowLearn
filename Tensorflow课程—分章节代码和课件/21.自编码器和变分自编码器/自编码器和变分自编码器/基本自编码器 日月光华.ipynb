{
 "cells": [
  {
   "cell_type": "code",
   "execution_count": 1,
   "metadata": {},
   "outputs": [],
   "source": [
    "import tensorflow as tf\n",
    "import matplotlib.pyplot as plt"
   ]
  },
  {
   "cell_type": "code",
   "execution_count": 2,
   "metadata": {},
   "outputs": [
    {
     "data": {
      "text/plain": [
       "'2.0.0'"
      ]
     },
     "execution_count": 2,
     "metadata": {},
     "output_type": "execute_result"
    }
   ],
   "source": [
    "tf.__version__"
   ]
  },
  {
   "cell_type": "code",
   "execution_count": 3,
   "metadata": {},
   "outputs": [],
   "source": [
    "(x_train, _), (x_test, _) = tf.keras.datasets.mnist.load_data()"
   ]
  },
  {
   "cell_type": "code",
   "execution_count": 4,
   "metadata": {},
   "outputs": [],
   "source": [
    "# 自编码器的数据相似性，我们用来测试的数据仍然是 手写数字"
   ]
  },
  {
   "cell_type": "code",
   "execution_count": 5,
   "metadata": {},
   "outputs": [
    {
     "data": {
      "text/plain": [
       "((60000, 28, 28), (10000, 28, 28))"
      ]
     },
     "execution_count": 5,
     "metadata": {},
     "output_type": "execute_result"
    }
   ],
   "source": [
    "x_train.shape, x_test.shape"
   ]
  },
  {
   "cell_type": "code",
   "execution_count": 6,
   "metadata": {},
   "outputs": [],
   "source": [
    "x_train = x_train.reshape(x_train.shape[0], -1)\n",
    "x_test = x_test.reshape(x_test.shape[0], -1)"
   ]
  },
  {
   "cell_type": "code",
   "execution_count": 7,
   "metadata": {},
   "outputs": [
    {
     "data": {
      "text/plain": [
       "((60000, 784), (10000, 784))"
      ]
     },
     "execution_count": 7,
     "metadata": {},
     "output_type": "execute_result"
    }
   ],
   "source": [
    "x_train.shape, x_test.shape"
   ]
  },
  {
   "cell_type": "code",
   "execution_count": 8,
   "metadata": {},
   "outputs": [],
   "source": [
    "x_train = tf.cast(x_train, tf.float32)/255\n",
    "x_test = tf.cast(x_test, tf.float32)/255"
   ]
  },
  {
   "cell_type": "code",
   "execution_count": 9,
   "metadata": {},
   "outputs": [],
   "source": [
    "input_size = 784\n",
    "hidden_size = 32\n",
    "output_size = 784"
   ]
  },
  {
   "cell_type": "code",
   "execution_count": 10,
   "metadata": {},
   "outputs": [],
   "source": [
    "input = tf.keras.layers.Input(shape=(input_size,))\n",
    "\n",
    "# Encoder\n",
    "en = tf.keras.layers.Dense(hidden_size, activation='relu')(input)\n",
    "\n",
    "# Decoder\n",
    "de = tf.keras.layers.Dense(output_size, activation='sigmoid')(en)\n",
    "\n",
    "model = tf.keras.Model(inputs=input, outputs=de)"
   ]
  },
  {
   "cell_type": "code",
   "execution_count": 11,
   "metadata": {},
   "outputs": [],
   "source": [
    "model.compile(optimizer='adam', loss='mse')"
   ]
  },
  {
   "cell_type": "code",
   "execution_count": 12,
   "metadata": {},
   "outputs": [
    {
     "name": "stdout",
     "output_type": "stream",
     "text": [
      "WARNING:tensorflow:The `nb_epoch` argument in `fit` has been renamed `epochs`.\n",
      "Train on 60000 samples, validate on 10000 samples\n",
      "Epoch 1/50\n",
      "60000/60000 [==============================] - 10s 163us/sample - loss: 0.0692 - val_loss: 0.0413\n",
      "Epoch 2/50\n",
      "60000/60000 [==============================] - 3s 44us/sample - loss: 0.0353 - val_loss: 0.0295\n",
      "Epoch 3/50\n",
      "60000/60000 [==============================] - 3s 43us/sample - loss: 0.0264 - val_loss: 0.0231\n",
      "Epoch 4/50\n",
      "60000/60000 [==============================] - 3s 43us/sample - loss: 0.0214 - val_loss: 0.0192\n",
      "Epoch 5/50\n",
      "60000/60000 [==============================] - 3s 44us/sample - loss: 0.0181 - val_loss: 0.0165\n",
      "Epoch 6/50\n",
      "60000/60000 [==============================] - 3s 45us/sample - loss: 0.0159 - val_loss: 0.0147\n",
      "Epoch 7/50\n",
      "60000/60000 [==============================] - 3s 45us/sample - loss: 0.0143 - val_loss: 0.0134\n",
      "Epoch 8/50\n",
      "60000/60000 [==============================] - 3s 45us/sample - loss: 0.0132 - val_loss: 0.0124\n",
      "Epoch 9/50\n",
      "60000/60000 [==============================] - 3s 46us/sample - loss: 0.0124 - val_loss: 0.0117\n",
      "Epoch 10/50\n",
      "60000/60000 [==============================] - 3s 45us/sample - loss: 0.0117 - val_loss: 0.0112\n",
      "Epoch 11/50\n",
      "60000/60000 [==============================] - 3s 43us/sample - loss: 0.0113 - val_loss: 0.0108\n",
      "Epoch 12/50\n",
      "60000/60000 [==============================] - 3s 45us/sample - loss: 0.0110 - val_loss: 0.0106\n",
      "Epoch 13/50\n",
      "60000/60000 [==============================] - 3s 46us/sample - loss: 0.0108 - val_loss: 0.0104\n",
      "Epoch 14/50\n",
      "60000/60000 [==============================] - 3s 45us/sample - loss: 0.0107 - val_loss: 0.0103\n",
      "Epoch 15/50\n",
      "60000/60000 [==============================] - 3s 46us/sample - loss: 0.0106 - val_loss: 0.0102\n",
      "Epoch 16/50\n",
      "60000/60000 [==============================] - 3s 46us/sample - loss: 0.0105 - val_loss: 0.0101\n",
      "Epoch 17/50\n",
      "60000/60000 [==============================] - 3s 44us/sample - loss: 0.0104 - val_loss: 0.0101\n",
      "Epoch 18/50\n",
      "60000/60000 [==============================] - 3s 45us/sample - loss: 0.0104 - val_loss: 0.0100\n",
      "Epoch 19/50\n",
      "60000/60000 [==============================] - 3s 45us/sample - loss: 0.0103 - val_loss: 0.0100\n",
      "Epoch 20/50\n",
      "60000/60000 [==============================] - 3s 42us/sample - loss: 0.0103 - val_loss: 0.0099\n",
      "Epoch 21/50\n",
      "60000/60000 [==============================] - 3s 44us/sample - loss: 0.0103 - val_loss: 0.0099\n",
      "Epoch 22/50\n",
      "60000/60000 [==============================] - 3s 48us/sample - loss: 0.0102 - val_loss: 0.0099\n",
      "Epoch 23/50\n",
      "60000/60000 [==============================] - 3s 44us/sample - loss: 0.0102 - val_loss: 0.0099\n",
      "Epoch 24/50\n",
      "60000/60000 [==============================] - 3s 46us/sample - loss: 0.0102 - val_loss: 0.0099\n",
      "Epoch 25/50\n",
      "60000/60000 [==============================] - 3s 51us/sample - loss: 0.0102 - val_loss: 0.0098\n",
      "Epoch 26/50\n",
      "60000/60000 [==============================] - 3s 46us/sample - loss: 0.0101 - val_loss: 0.0098\n",
      "Epoch 27/50\n",
      "60000/60000 [==============================] - 3s 44us/sample - loss: 0.0101 - val_loss: 0.0098\n",
      "Epoch 28/50\n",
      "60000/60000 [==============================] - 3s 45us/sample - loss: 0.0101 - val_loss: 0.0098\n",
      "Epoch 29/50\n",
      "60000/60000 [==============================] - 3s 44us/sample - loss: 0.0101 - val_loss: 0.0098\n",
      "Epoch 30/50\n",
      "60000/60000 [==============================] - 3s 44us/sample - loss: 0.0101 - val_loss: 0.0098\n",
      "Epoch 31/50\n",
      "60000/60000 [==============================] - 3s 46us/sample - loss: 0.0101 - val_loss: 0.0097\n",
      "Epoch 32/50\n",
      "60000/60000 [==============================] - 3s 45us/sample - loss: 0.0101 - val_loss: 0.0097\n",
      "Epoch 33/50\n",
      "60000/60000 [==============================] - 3s 46us/sample - loss: 0.0100 - val_loss: 0.0097\n",
      "Epoch 34/50\n",
      "60000/60000 [==============================] - 3s 46us/sample - loss: 0.0100 - val_loss: 0.0097\n",
      "Epoch 35/50\n",
      "60000/60000 [==============================] - 3s 45us/sample - loss: 0.0100 - val_loss: 0.0097\n",
      "Epoch 36/50\n",
      "60000/60000 [==============================] - 3s 45us/sample - loss: 0.0100 - val_loss: 0.0097\n",
      "Epoch 37/50\n",
      "60000/60000 [==============================] - 3s 44us/sample - loss: 0.0100 - val_loss: 0.0097\n",
      "Epoch 38/50\n",
      "60000/60000 [==============================] - 3s 45us/sample - loss: 0.0100 - val_loss: 0.0097\n",
      "Epoch 39/50\n",
      "60000/60000 [==============================] - 3s 46us/sample - loss: 0.0100 - val_loss: 0.0097\n",
      "Epoch 40/50\n",
      "60000/60000 [==============================] - 3s 46us/sample - loss: 0.0100 - val_loss: 0.0097\n",
      "Epoch 41/50\n",
      "60000/60000 [==============================] - 3s 46us/sample - loss: 0.0100 - val_loss: 0.0097\n",
      "Epoch 42/50\n",
      "60000/60000 [==============================] - 3s 47us/sample - loss: 0.0100 - val_loss: 0.0097\n",
      "Epoch 43/50\n",
      "60000/60000 [==============================] - 3s 45us/sample - loss: 0.0099 - val_loss: 0.0097\n",
      "Epoch 44/50\n",
      "60000/60000 [==============================] - 3s 46us/sample - loss: 0.0099 - val_loss: 0.0096\n",
      "Epoch 45/50\n",
      "60000/60000 [==============================] - 3s 47us/sample - loss: 0.0099 - val_loss: 0.0096\n",
      "Epoch 46/50\n",
      "60000/60000 [==============================] - 3s 46us/sample - loss: 0.0099 - val_loss: 0.0096\n",
      "Epoch 47/50\n",
      "60000/60000 [==============================] - 3s 50us/sample - loss: 0.0099 - val_loss: 0.0096\n",
      "Epoch 48/50\n",
      "60000/60000 [==============================] - 3s 47us/sample - loss: 0.0099 - val_loss: 0.0096\n",
      "Epoch 49/50\n",
      "60000/60000 [==============================] - 3s 46us/sample - loss: 0.0099 - val_loss: 0.0096\n",
      "Epoch 50/50\n",
      "60000/60000 [==============================] - 3s 47us/sample - loss: 0.0099 - val_loss: 0.0096\n"
     ]
    },
    {
     "data": {
      "text/plain": [
       "<tensorflow.python.keras.callbacks.History at 0x19e25dc1748>"
      ]
     },
     "execution_count": 12,
     "metadata": {},
     "output_type": "execute_result"
    }
   ],
   "source": [
    "model.fit(x_train, x_train,\n",
    "                nb_epoch=50,\n",
    "                batch_size=256,\n",
    "                shuffle=True,\n",
    "                validation_data=(x_test, x_test))"
   ]
  },
  {
   "cell_type": "code",
   "execution_count": 13,
   "metadata": {},
   "outputs": [],
   "source": [
    "encode = tf.keras.Model(inputs=input, outputs=en)"
   ]
  },
  {
   "cell_type": "code",
   "execution_count": 14,
   "metadata": {},
   "outputs": [],
   "source": [
    "input_de = tf.keras.layers.Input(shape=(hidden_size,))\n",
    "output = model.layers[-1](input_de)\n",
    "decode = tf.keras.Model(inputs=input_de, outputs=output)"
   ]
  },
  {
   "cell_type": "code",
   "execution_count": 15,
   "metadata": {},
   "outputs": [],
   "source": [
    "encode_test = encode(x_test)"
   ]
  },
  {
   "cell_type": "code",
   "execution_count": 20,
   "metadata": {},
   "outputs": [],
   "source": [
    "decode_test = decode.predict(encode_test)"
   ]
  },
  {
   "cell_type": "code",
   "execution_count": 24,
   "metadata": {},
   "outputs": [],
   "source": [
    "x_test = x_test.numpy()"
   ]
  },
  {
   "cell_type": "code",
   "execution_count": 21,
   "metadata": {},
   "outputs": [],
   "source": [
    "n = 10  "
   ]
  },
  {
   "cell_type": "code",
   "execution_count": 26,
   "metadata": {},
   "outputs": [
    {
     "data": {
      "image/png": "[encoded data removed]",
      "text/plain": [
       "<Figure size 1440x288 with 18 Axes>"
      ]
     },
     "metadata": {
      "needs_background": "light"
     },
     "output_type": "display_data"
    }
   ],
   "source": [
    "plt.figure(figsize=(20, 4))\n",
    "for i in range(1, n):    \n",
    "# 展示原始图像\n",
    "    ax = plt.subplot(2, n, i)\n",
    "    plt.imshow(x_test[i].reshape(28, 28))  \n",
    "    # 展示自编码器重构后的图像\n",
    "    ax = plt.subplot(2, n, i + n)\n",
    "    plt.imshow(decode_test[i].reshape(28, 28))\n",
    "plt.show()"
   ]
  },
  {
   "cell_type": "code",
   "execution_count": null,
   "metadata": {},
   "outputs": [],
   "source": []
  },
  {
   "cell_type": "code",
   "execution_count": null,
   "metadata": {},
   "outputs": [],
   "source": []
  }
 ],
 "metadata": {
  "kernelspec": {
   "display_name": "Python [conda env:kr] *",
   "language": "python",
   "name": "conda-env-kr-py"
  },
  "language_info": {
   "codemirror_mode": {
    "name": "ipython",
    "version": 3
   },
   "file_extension": ".py",
   "mimetype": "text/x-python",
   "name": "python",
   "nbconvert_exporter": "python",
   "pygments_lexer": "ipython3",
   "version": "3.6.7"
  }
 },
 "nbformat": 4,
 "nbformat_minor": 4
}
