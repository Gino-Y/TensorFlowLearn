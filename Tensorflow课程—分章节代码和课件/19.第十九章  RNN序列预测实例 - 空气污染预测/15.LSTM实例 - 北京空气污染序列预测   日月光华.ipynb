{
 "cells": [
  {
   "cell_type": "code",
   "execution_count": 5,
   "metadata": {},
   "outputs": [],
   "source": [
    "from tensorflow import keras\n",
    "from tensorflow.keras import layers"
   ]
  },
  {
   "cell_type": "code",
   "execution_count": 6,
   "metadata": {},
   "outputs": [],
   "source": [
    "import pandas as pd\n",
    "import numpy as np\n",
    "import matplotlib.pyplot as plt\n",
    "%matplotlib inline"
   ]
  },
  {
   "cell_type": "code",
   "execution_count": 9,
   "metadata": {},
   "outputs": [],
   "source": [
    "data = pd.read_csv('./PRSA_data_2010.1.1-2014.12.31.csv')"
   ]
  },
  {
   "cell_type": "code",
   "execution_count": 10,
   "metadata": {},
   "outputs": [
    {
     "name": "stdout",
     "output_type": "stream",
     "text": [
      "<class 'pandas.core.frame.DataFrame'>\n",
      "RangeIndex: 43824 entries, 0 to 43823\n",
      "Data columns (total 13 columns):\n",
      " #   Column  Non-Null Count  Dtype  \n",
      "---  ------  --------------  -----  \n",
      " 0   No      43824 non-null  int64  \n",
      " 1   year    43824 non-null  int64  \n",
      " 2   month   43824 non-null  int64  \n",
      " 3   day     43824 non-null  int64  \n",
      " 4   hour    43824 non-null  int64  \n",
      " 5   pm2.5   41757 non-null  float64\n",
      " 6   DEWP    43824 non-null  int64  \n",
      " 7   TEMP    43824 non-null  float64\n",
      " 8   PRES    43824 non-null  float64\n",
      " 9   cbwd    43824 non-null  object \n",
      " 10  Iws     43824 non-null  float64\n",
      " 11  Is      43824 non-null  int64  \n",
      " 12  Ir      43824 non-null  int64  \n",
      "dtypes: float64(4), int64(8), object(1)\n",
      "memory usage: 4.3+ MB\n"
     ]
    }
   ],
   "source": [
    "data.info()"
   ]
  },
  {
   "cell_type": "code",
   "execution_count": 11,
   "metadata": {},
   "outputs": [
    {
     "data": {
      "text/plain": "          No  year  month  day  hour  pm2.5  DEWP  TEMP    PRES cbwd     Iws  \\\n0          1  2010      1    1     0    NaN   -21 -11.0  1021.0   NW    1.79   \n1          2  2010      1    1     1    NaN   -21 -12.0  1020.0   NW    4.92   \n2          3  2010      1    1     2    NaN   -21 -11.0  1019.0   NW    6.71   \n3          4  2010      1    1     3    NaN   -21 -14.0  1019.0   NW    9.84   \n4          5  2010      1    1     4    NaN   -20 -12.0  1018.0   NW   12.97   \n...      ...   ...    ...  ...   ...    ...   ...   ...     ...  ...     ...   \n43548  43549  2014     12   20    12    NaN   -18   0.0  1030.0   NW  244.97   \n43549  43550  2014     12   20    13    NaN   -19   1.0  1029.0   NW  249.89   \n43550  43551  2014     12   20    14    NaN   -20   1.0  1029.0   NW  257.04   \n43551  43552  2014     12   20    15    NaN   -20   2.0  1028.0   NW  262.85   \n43552  43553  2014     12   20    16    NaN   -21   1.0  1028.0   NW  270.00   \n\n       Is  Ir  \n0       0   0  \n1       0   0  \n2       0   0  \n3       0   0  \n4       0   0  \n...    ..  ..  \n43548   0   0  \n43549   0   0  \n43550   0   0  \n43551   0   0  \n43552   0   0  \n\n[2067 rows x 13 columns]",
      "text/html": "<div>\n<style scoped>\n    .dataframe tbody tr th:only-of-type {\n        vertical-align: middle;\n    }\n\n    .dataframe tbody tr th {\n        vertical-align: top;\n    }\n\n    .dataframe thead th {\n        text-align: right;\n    }\n</style>\n<table border=\"1\" class=\"dataframe\">\n  <thead>\n    <tr style=\"text-align: right;\">\n      <th></th>\n      <th>No</th>\n      <th>year</th>\n      <th>month</th>\n      <th>day</th>\n      <th>hour</th>\n      <th>pm2.5</th>\n      <th>DEWP</th>\n      <th>TEMP</th>\n      <th>PRES</th>\n      <th>cbwd</th>\n      <th>Iws</th>\n      <th>Is</th>\n      <th>Ir</th>\n    </tr>\n  </thead>\n  <tbody>\n    <tr>\n      <th>0</th>\n      <td>1</td>\n      <td>2010</td>\n      <td>1</td>\n      <td>1</td>\n      <td>0</td>\n      <td>NaN</td>\n      <td>-21</td>\n      <td>-11.0</td>\n      <td>1021.0</td>\n      <td>NW</td>\n      <td>1.79</td>\n      <td>0</td>\n      <td>0</td>\n    </tr>\n    <tr>\n      <th>1</th>\n      <td>2</td>\n      <td>2010</td>\n      <td>1</td>\n      <td>1</td>\n      <td>1</td>\n      <td>NaN</td>\n      <td>-21</td>\n      <td>-12.0</td>\n      <td>1020.0</td>\n      <td>NW</td>\n      <td>4.92</td>\n      <td>0</td>\n      <td>0</td>\n    </tr>\n    <tr>\n      <th>2</th>\n      <td>3</td>\n      <td>2010</td>\n      <td>1</td>\n      <td>1</td>\n      <td>2</td>\n      <td>NaN</td>\n      <td>-21</td>\n      <td>-11.0</td>\n      <td>1019.0</td>\n      <td>NW</td>\n      <td>6.71</td>\n      <td>0</td>\n      <td>0</td>\n    </tr>\n    <tr>\n      <th>3</th>\n      <td>4</td>\n      <td>2010</td>\n      <td>1</td>\n      <td>1</td>\n      <td>3</td>\n      <td>NaN</td>\n      <td>-21</td>\n      <td>-14.0</td>\n      <td>1019.0</td>\n      <td>NW</td>\n      <td>9.84</td>\n      <td>0</td>\n      <td>0</td>\n    </tr>\n    <tr>\n      <th>4</th>\n      <td>5</td>\n      <td>2010</td>\n      <td>1</td>\n      <td>1</td>\n      <td>4</td>\n      <td>NaN</td>\n      <td>-20</td>\n      <td>-12.0</td>\n      <td>1018.0</td>\n      <td>NW</td>\n      <td>12.97</td>\n      <td>0</td>\n      <td>0</td>\n    </tr>\n    <tr>\n      <th>...</th>\n      <td>...</td>\n      <td>...</td>\n      <td>...</td>\n      <td>...</td>\n      <td>...</td>\n      <td>...</td>\n      <td>...</td>\n      <td>...</td>\n      <td>...</td>\n      <td>...</td>\n      <td>...</td>\n      <td>...</td>\n      <td>...</td>\n    </tr>\n    <tr>\n      <th>43548</th>\n      <td>43549</td>\n      <td>2014</td>\n      <td>12</td>\n      <td>20</td>\n      <td>12</td>\n      <td>NaN</td>\n      <td>-18</td>\n      <td>0.0</td>\n      <td>1030.0</td>\n      <td>NW</td>\n      <td>244.97</td>\n      <td>0</td>\n      <td>0</td>\n    </tr>\n    <tr>\n      <th>43549</th>\n      <td>43550</td>\n      <td>2014</td>\n      <td>12</td>\n      <td>20</td>\n      <td>13</td>\n      <td>NaN</td>\n      <td>-19</td>\n      <td>1.0</td>\n      <td>1029.0</td>\n      <td>NW</td>\n      <td>249.89</td>\n      <td>0</td>\n      <td>0</td>\n    </tr>\n    <tr>\n      <th>43550</th>\n      <td>43551</td>\n      <td>2014</td>\n      <td>12</td>\n      <td>20</td>\n      <td>14</td>\n      <td>NaN</td>\n      <td>-20</td>\n      <td>1.0</td>\n      <td>1029.0</td>\n      <td>NW</td>\n      <td>257.04</td>\n      <td>0</td>\n      <td>0</td>\n    </tr>\n    <tr>\n      <th>43551</th>\n      <td>43552</td>\n      <td>2014</td>\n      <td>12</td>\n      <td>20</td>\n      <td>15</td>\n      <td>NaN</td>\n      <td>-20</td>\n      <td>2.0</td>\n      <td>1028.0</td>\n      <td>NW</td>\n      <td>262.85</td>\n      <td>0</td>\n      <td>0</td>\n    </tr>\n    <tr>\n      <th>43552</th>\n      <td>43553</td>\n      <td>2014</td>\n      <td>12</td>\n      <td>20</td>\n      <td>16</td>\n      <td>NaN</td>\n      <td>-21</td>\n      <td>1.0</td>\n      <td>1028.0</td>\n      <td>NW</td>\n      <td>270.00</td>\n      <td>0</td>\n      <td>0</td>\n    </tr>\n  </tbody>\n</table>\n<p>2067 rows × 13 columns</p>\n</div>"
     },
     "execution_count": 11,
     "metadata": {},
     "output_type": "execute_result"
    }
   ],
   "source": [
    "data[data['pm2.5'].isna()]"
   ]
  },
  {
   "cell_type": "code",
   "execution_count": 12,
   "metadata": {},
   "outputs": [],
   "source": [
    "data = data.iloc[24:].copy()"
   ]
  },
  {
   "cell_type": "code",
   "execution_count": 13,
   "metadata": {},
   "outputs": [],
   "source": [
    "data.fillna(method='ffill', inplace=True)"
   ]
  },
  {
   "cell_type": "code",
   "execution_count": 14,
   "metadata": {},
   "outputs": [
    {
     "name": "stdout",
     "output_type": "stream",
     "text": [
      "<class 'pandas.core.frame.DataFrame'>\n",
      "RangeIndex: 43800 entries, 24 to 43823\n",
      "Data columns (total 13 columns):\n",
      " #   Column  Non-Null Count  Dtype  \n",
      "---  ------  --------------  -----  \n",
      " 0   No      43800 non-null  int64  \n",
      " 1   year    43800 non-null  int64  \n",
      " 2   month   43800 non-null  int64  \n",
      " 3   day     43800 non-null  int64  \n",
      " 4   hour    43800 non-null  int64  \n",
      " 5   pm2.5   43800 non-null  float64\n",
      " 6   DEWP    43800 non-null  int64  \n",
      " 7   TEMP    43800 non-null  float64\n",
      " 8   PRES    43800 non-null  float64\n",
      " 9   cbwd    43800 non-null  object \n",
      " 10  Iws     43800 non-null  float64\n",
      " 11  Is      43800 non-null  int64  \n",
      " 12  Ir      43800 non-null  int64  \n",
      "dtypes: float64(4), int64(8), object(1)\n",
      "memory usage: 4.3+ MB\n"
     ]
    }
   ],
   "source": [
    "data.info()"
   ]
  },
  {
   "cell_type": "code",
   "execution_count": 9,
   "metadata": {},
   "outputs": [],
   "source": [
    "data.drop('No', axis=1, inplace=True)"
   ]
  },
  {
   "cell_type": "code",
   "execution_count": 16,
   "metadata": {},
   "outputs": [],
   "source": [
    "import datetime"
   ]
  },
  {
   "cell_type": "code",
   "execution_count": 17,
   "metadata": {},
   "outputs": [],
   "source": [
    "data['time'] = data.apply(lambda x: datetime.datetime(year=x['year'],\n",
    "                                       month=x['month'],\n",
    "                                       day=x['day'], \n",
    "                                       hour=x['hour']), \n",
    "                          axis=1)"
   ]
  },
  {
   "cell_type": "code",
   "execution_count": 18,
   "metadata": {},
   "outputs": [],
   "source": [
    "data.set_index('time', inplace=True)"
   ]
  },
  {
   "cell_type": "code",
   "execution_count": 19,
   "metadata": {},
   "outputs": [],
   "source": [
    "data.drop(columns=['year', 'month', 'day', 'hour'], inplace=True)"
   ]
  },
  {
   "cell_type": "code",
   "execution_count": 32,
   "metadata": {},
   "outputs": [
    {
     "data": {
      "text/plain": "                     No  pm2.5  DEWP  TEMP    PRES   Iws  Is  Ir  NE  NW  SE  \\\ntime                                                                           \n2010-01-02 00:00:00  25  129.0   -16  -4.0  1020.0  1.79   0   0   0   0   1   \n2010-01-02 01:00:00  26  148.0   -15  -4.0  1020.0  2.68   0   0   0   0   1   \n2010-01-02 02:00:00  27  159.0   -11  -5.0  1021.0  3.57   0   0   0   0   1   \n2010-01-02 03:00:00  28  181.0    -7  -5.0  1022.0  5.36   1   0   0   0   1   \n2010-01-02 04:00:00  29  138.0    -7  -5.0  1022.0  6.25   2   0   0   0   1   \n\n                     cv  \ntime                     \n2010-01-02 00:00:00   0  \n2010-01-02 01:00:00   0  \n2010-01-02 02:00:00   0  \n2010-01-02 03:00:00   0  \n2010-01-02 04:00:00   0  ",
      "text/html": "<div>\n<style scoped>\n    .dataframe tbody tr th:only-of-type {\n        vertical-align: middle;\n    }\n\n    .dataframe tbody tr th {\n        vertical-align: top;\n    }\n\n    .dataframe thead th {\n        text-align: right;\n    }\n</style>\n<table border=\"1\" class=\"dataframe\">\n  <thead>\n    <tr style=\"text-align: right;\">\n      <th></th>\n      <th>No</th>\n      <th>pm2.5</th>\n      <th>DEWP</th>\n      <th>TEMP</th>\n      <th>PRES</th>\n      <th>Iws</th>\n      <th>Is</th>\n      <th>Ir</th>\n      <th>NE</th>\n      <th>NW</th>\n      <th>SE</th>\n      <th>cv</th>\n    </tr>\n    <tr>\n      <th>time</th>\n      <th></th>\n      <th></th>\n      <th></th>\n      <th></th>\n      <th></th>\n      <th></th>\n      <th></th>\n      <th></th>\n      <th></th>\n      <th></th>\n      <th></th>\n      <th></th>\n    </tr>\n  </thead>\n  <tbody>\n    <tr>\n      <th>2010-01-02 00:00:00</th>\n      <td>25</td>\n      <td>129.0</td>\n      <td>-16</td>\n      <td>-4.0</td>\n      <td>1020.0</td>\n      <td>1.79</td>\n      <td>0</td>\n      <td>0</td>\n      <td>0</td>\n      <td>0</td>\n      <td>1</td>\n      <td>0</td>\n    </tr>\n    <tr>\n      <th>2010-01-02 01:00:00</th>\n      <td>26</td>\n      <td>148.0</td>\n      <td>-15</td>\n      <td>-4.0</td>\n      <td>1020.0</td>\n      <td>2.68</td>\n      <td>0</td>\n      <td>0</td>\n      <td>0</td>\n      <td>0</td>\n      <td>1</td>\n      <td>0</td>\n    </tr>\n    <tr>\n      <th>2010-01-02 02:00:00</th>\n      <td>27</td>\n      <td>159.0</td>\n      <td>-11</td>\n      <td>-5.0</td>\n      <td>1021.0</td>\n      <td>3.57</td>\n      <td>0</td>\n      <td>0</td>\n      <td>0</td>\n      <td>0</td>\n      <td>1</td>\n      <td>0</td>\n    </tr>\n    <tr>\n      <th>2010-01-02 03:00:00</th>\n      <td>28</td>\n      <td>181.0</td>\n      <td>-7</td>\n      <td>-5.0</td>\n      <td>1022.0</td>\n      <td>5.36</td>\n      <td>1</td>\n      <td>0</td>\n      <td>0</td>\n      <td>0</td>\n      <td>1</td>\n      <td>0</td>\n    </tr>\n    <tr>\n      <th>2010-01-02 04:00:00</th>\n      <td>29</td>\n      <td>138.0</td>\n      <td>-7</td>\n      <td>-5.0</td>\n      <td>1022.0</td>\n      <td>6.25</td>\n      <td>2</td>\n      <td>0</td>\n      <td>0</td>\n      <td>0</td>\n      <td>1</td>\n      <td>0</td>\n    </tr>\n  </tbody>\n</table>\n</div>"
     },
     "execution_count": 32,
     "metadata": {},
     "output_type": "execute_result"
    }
   ],
   "source": [
    "data.head()"
   ]
  },
  {
   "cell_type": "code",
   "execution_count": 35,
   "metadata": {},
   "outputs": [
    {
     "ename": "ValueError",
     "evalue": "Length mismatch: Expected axis has 12 elements, new values have 8 elements",
     "output_type": "error",
     "traceback": [
      "\u001B[1;31m---------------------------------------------------------------------------\u001B[0m",
      "\u001B[1;31mValueError\u001B[0m                                Traceback (most recent call last)",
      "\u001B[1;32mC:\\Users\\AURORE~1\\AppData\\Local\\Temp/ipykernel_34268/3967217550.py\u001B[0m in \u001B[0;36m<module>\u001B[1;34m\u001B[0m\n\u001B[1;32m----> 1\u001B[1;33m \u001B[0mdata\u001B[0m\u001B[1;33m.\u001B[0m\u001B[0mcolumns\u001B[0m \u001B[1;33m=\u001B[0m \u001B[1;33m[\u001B[0m\u001B[1;34m'pm2.5'\u001B[0m\u001B[1;33m,\u001B[0m \u001B[1;34m'dew'\u001B[0m\u001B[1;33m,\u001B[0m \u001B[1;34m'temp'\u001B[0m\u001B[1;33m,\u001B[0m \u001B[1;34m'press'\u001B[0m\u001B[1;33m,\u001B[0m \u001B[1;34m'cbwd'\u001B[0m\u001B[1;33m,\u001B[0m \u001B[1;34m'iws'\u001B[0m\u001B[1;33m,\u001B[0m \u001B[1;34m'snow'\u001B[0m\u001B[1;33m,\u001B[0m \u001B[1;34m'rain'\u001B[0m\u001B[1;33m]\u001B[0m\u001B[1;33m\u001B[0m\u001B[1;33m\u001B[0m\u001B[0m\n\u001B[0m\u001B[0;32m      2\u001B[0m \u001B[1;33m\u001B[0m\u001B[0m\n",
      "\u001B[1;32mD:\\Works\\TensorFlowLearn\\VirtualenvTensorFlow\\lib\\site-packages\\pandas\\core\\generic.py\u001B[0m in \u001B[0;36m__setattr__\u001B[1;34m(self, name, value)\u001B[0m\n\u001B[0;32m   5498\u001B[0m         \u001B[1;32mtry\u001B[0m\u001B[1;33m:\u001B[0m\u001B[1;33m\u001B[0m\u001B[1;33m\u001B[0m\u001B[0m\n\u001B[0;32m   5499\u001B[0m             \u001B[0mobject\u001B[0m\u001B[1;33m.\u001B[0m\u001B[0m__getattribute__\u001B[0m\u001B[1;33m(\u001B[0m\u001B[0mself\u001B[0m\u001B[1;33m,\u001B[0m \u001B[0mname\u001B[0m\u001B[1;33m)\u001B[0m\u001B[1;33m\u001B[0m\u001B[1;33m\u001B[0m\u001B[0m\n\u001B[1;32m-> 5500\u001B[1;33m             \u001B[1;32mreturn\u001B[0m \u001B[0mobject\u001B[0m\u001B[1;33m.\u001B[0m\u001B[0m__setattr__\u001B[0m\u001B[1;33m(\u001B[0m\u001B[0mself\u001B[0m\u001B[1;33m,\u001B[0m \u001B[0mname\u001B[0m\u001B[1;33m,\u001B[0m \u001B[0mvalue\u001B[0m\u001B[1;33m)\u001B[0m\u001B[1;33m\u001B[0m\u001B[1;33m\u001B[0m\u001B[0m\n\u001B[0m\u001B[0;32m   5501\u001B[0m         \u001B[1;32mexcept\u001B[0m \u001B[0mAttributeError\u001B[0m\u001B[1;33m:\u001B[0m\u001B[1;33m\u001B[0m\u001B[1;33m\u001B[0m\u001B[0m\n\u001B[0;32m   5502\u001B[0m             \u001B[1;32mpass\u001B[0m\u001B[1;33m\u001B[0m\u001B[1;33m\u001B[0m\u001B[0m\n",
      "\u001B[1;32mD:\\Works\\TensorFlowLearn\\VirtualenvTensorFlow\\lib\\site-packages\\pandas\\_libs\\properties.pyx\u001B[0m in \u001B[0;36mpandas._libs.properties.AxisProperty.__set__\u001B[1;34m()\u001B[0m\n",
      "\u001B[1;32mD:\\Works\\TensorFlowLearn\\VirtualenvTensorFlow\\lib\\site-packages\\pandas\\core\\generic.py\u001B[0m in \u001B[0;36m_set_axis\u001B[1;34m(self, axis, labels)\u001B[0m\n\u001B[0;32m    764\u001B[0m     \u001B[1;32mdef\u001B[0m \u001B[0m_set_axis\u001B[0m\u001B[1;33m(\u001B[0m\u001B[0mself\u001B[0m\u001B[1;33m,\u001B[0m \u001B[0maxis\u001B[0m\u001B[1;33m:\u001B[0m \u001B[0mint\u001B[0m\u001B[1;33m,\u001B[0m \u001B[0mlabels\u001B[0m\u001B[1;33m:\u001B[0m \u001B[0mIndex\u001B[0m\u001B[1;33m)\u001B[0m \u001B[1;33m->\u001B[0m \u001B[1;32mNone\u001B[0m\u001B[1;33m:\u001B[0m\u001B[1;33m\u001B[0m\u001B[1;33m\u001B[0m\u001B[0m\n\u001B[0;32m    765\u001B[0m         \u001B[0mlabels\u001B[0m \u001B[1;33m=\u001B[0m \u001B[0mensure_index\u001B[0m\u001B[1;33m(\u001B[0m\u001B[0mlabels\u001B[0m\u001B[1;33m)\u001B[0m\u001B[1;33m\u001B[0m\u001B[1;33m\u001B[0m\u001B[0m\n\u001B[1;32m--> 766\u001B[1;33m         \u001B[0mself\u001B[0m\u001B[1;33m.\u001B[0m\u001B[0m_mgr\u001B[0m\u001B[1;33m.\u001B[0m\u001B[0mset_axis\u001B[0m\u001B[1;33m(\u001B[0m\u001B[0maxis\u001B[0m\u001B[1;33m,\u001B[0m \u001B[0mlabels\u001B[0m\u001B[1;33m)\u001B[0m\u001B[1;33m\u001B[0m\u001B[1;33m\u001B[0m\u001B[0m\n\u001B[0m\u001B[0;32m    767\u001B[0m         \u001B[0mself\u001B[0m\u001B[1;33m.\u001B[0m\u001B[0m_clear_item_cache\u001B[0m\u001B[1;33m(\u001B[0m\u001B[1;33m)\u001B[0m\u001B[1;33m\u001B[0m\u001B[1;33m\u001B[0m\u001B[0m\n\u001B[0;32m    768\u001B[0m \u001B[1;33m\u001B[0m\u001B[0m\n",
      "\u001B[1;32mD:\\Works\\TensorFlowLearn\\VirtualenvTensorFlow\\lib\\site-packages\\pandas\\core\\internals\\managers.py\u001B[0m in \u001B[0;36mset_axis\u001B[1;34m(self, axis, new_labels)\u001B[0m\n\u001B[0;32m    214\u001B[0m     \u001B[1;32mdef\u001B[0m \u001B[0mset_axis\u001B[0m\u001B[1;33m(\u001B[0m\u001B[0mself\u001B[0m\u001B[1;33m,\u001B[0m \u001B[0maxis\u001B[0m\u001B[1;33m:\u001B[0m \u001B[0mint\u001B[0m\u001B[1;33m,\u001B[0m \u001B[0mnew_labels\u001B[0m\u001B[1;33m:\u001B[0m \u001B[0mIndex\u001B[0m\u001B[1;33m)\u001B[0m \u001B[1;33m->\u001B[0m \u001B[1;32mNone\u001B[0m\u001B[1;33m:\u001B[0m\u001B[1;33m\u001B[0m\u001B[1;33m\u001B[0m\u001B[0m\n\u001B[0;32m    215\u001B[0m         \u001B[1;31m# Caller is responsible for ensuring we have an Index object.\u001B[0m\u001B[1;33m\u001B[0m\u001B[1;33m\u001B[0m\u001B[1;33m\u001B[0m\u001B[0m\n\u001B[1;32m--> 216\u001B[1;33m         \u001B[0mself\u001B[0m\u001B[1;33m.\u001B[0m\u001B[0m_validate_set_axis\u001B[0m\u001B[1;33m(\u001B[0m\u001B[0maxis\u001B[0m\u001B[1;33m,\u001B[0m \u001B[0mnew_labels\u001B[0m\u001B[1;33m)\u001B[0m\u001B[1;33m\u001B[0m\u001B[1;33m\u001B[0m\u001B[0m\n\u001B[0m\u001B[0;32m    217\u001B[0m         \u001B[0mself\u001B[0m\u001B[1;33m.\u001B[0m\u001B[0maxes\u001B[0m\u001B[1;33m[\u001B[0m\u001B[0maxis\u001B[0m\u001B[1;33m]\u001B[0m \u001B[1;33m=\u001B[0m \u001B[0mnew_labels\u001B[0m\u001B[1;33m\u001B[0m\u001B[1;33m\u001B[0m\u001B[0m\n\u001B[0;32m    218\u001B[0m \u001B[1;33m\u001B[0m\u001B[0m\n",
      "\u001B[1;32mD:\\Works\\TensorFlowLearn\\VirtualenvTensorFlow\\lib\\site-packages\\pandas\\core\\internals\\base.py\u001B[0m in \u001B[0;36m_validate_set_axis\u001B[1;34m(self, axis, new_labels)\u001B[0m\n\u001B[0;32m     55\u001B[0m \u001B[1;33m\u001B[0m\u001B[0m\n\u001B[0;32m     56\u001B[0m         \u001B[1;32melif\u001B[0m \u001B[0mnew_len\u001B[0m \u001B[1;33m!=\u001B[0m \u001B[0mold_len\u001B[0m\u001B[1;33m:\u001B[0m\u001B[1;33m\u001B[0m\u001B[1;33m\u001B[0m\u001B[0m\n\u001B[1;32m---> 57\u001B[1;33m             raise ValueError(\n\u001B[0m\u001B[0;32m     58\u001B[0m                 \u001B[1;34mf\"Length mismatch: Expected axis has {old_len} elements, new \"\u001B[0m\u001B[1;33m\u001B[0m\u001B[1;33m\u001B[0m\u001B[0m\n\u001B[0;32m     59\u001B[0m                 \u001B[1;34mf\"values have {new_len} elements\"\u001B[0m\u001B[1;33m\u001B[0m\u001B[1;33m\u001B[0m\u001B[0m\n",
      "\u001B[1;31mValueError\u001B[0m: Length mismatch: Expected axis has 12 elements, new values have 8 elements"
     ]
    }
   ],
   "source": [
    "data.columns = ['pm2.5', 'dew', 'temp', 'press', 'cbwd', 'iws', 'snow', 'rain']"
   ]
  },
  {
   "cell_type": "code",
   "execution_count": 34,
   "metadata": {},
   "outputs": [
    {
     "ename": "AttributeError",
     "evalue": "'DataFrame' object has no attribute 'cbwd'",
     "output_type": "error",
     "traceback": [
      "\u001B[1;31m---------------------------------------------------------------------------\u001B[0m",
      "\u001B[1;31mAttributeError\u001B[0m                            Traceback (most recent call last)",
      "\u001B[1;32mC:\\Users\\AURORE~1\\AppData\\Local\\Temp/ipykernel_34268/914538581.py\u001B[0m in \u001B[0;36m<module>\u001B[1;34m\u001B[0m\n\u001B[1;32m----> 1\u001B[1;33m \u001B[0mdata\u001B[0m\u001B[1;33m.\u001B[0m\u001B[0mcbwd\u001B[0m\u001B[1;33m.\u001B[0m\u001B[0munique\u001B[0m\u001B[1;33m(\u001B[0m\u001B[1;33m)\u001B[0m\u001B[1;33m\u001B[0m\u001B[1;33m\u001B[0m\u001B[0m\n\u001B[0m\u001B[0;32m      2\u001B[0m \u001B[1;33m\u001B[0m\u001B[0m\n",
      "\u001B[1;32mD:\\Works\\TensorFlowLearn\\VirtualenvTensorFlow\\lib\\site-packages\\pandas\\core\\generic.py\u001B[0m in \u001B[0;36m__getattr__\u001B[1;34m(self, name)\u001B[0m\n\u001B[0;32m   5485\u001B[0m         ):\n\u001B[0;32m   5486\u001B[0m             \u001B[1;32mreturn\u001B[0m \u001B[0mself\u001B[0m\u001B[1;33m[\u001B[0m\u001B[0mname\u001B[0m\u001B[1;33m]\u001B[0m\u001B[1;33m\u001B[0m\u001B[1;33m\u001B[0m\u001B[0m\n\u001B[1;32m-> 5487\u001B[1;33m         \u001B[1;32mreturn\u001B[0m \u001B[0mobject\u001B[0m\u001B[1;33m.\u001B[0m\u001B[0m__getattribute__\u001B[0m\u001B[1;33m(\u001B[0m\u001B[0mself\u001B[0m\u001B[1;33m,\u001B[0m \u001B[0mname\u001B[0m\u001B[1;33m)\u001B[0m\u001B[1;33m\u001B[0m\u001B[1;33m\u001B[0m\u001B[0m\n\u001B[0m\u001B[0;32m   5488\u001B[0m \u001B[1;33m\u001B[0m\u001B[0m\n\u001B[0;32m   5489\u001B[0m     \u001B[1;32mdef\u001B[0m \u001B[0m__setattr__\u001B[0m\u001B[1;33m(\u001B[0m\u001B[0mself\u001B[0m\u001B[1;33m,\u001B[0m \u001B[0mname\u001B[0m\u001B[1;33m:\u001B[0m \u001B[0mstr\u001B[0m\u001B[1;33m,\u001B[0m \u001B[0mvalue\u001B[0m\u001B[1;33m)\u001B[0m \u001B[1;33m->\u001B[0m \u001B[1;32mNone\u001B[0m\u001B[1;33m:\u001B[0m\u001B[1;33m\u001B[0m\u001B[1;33m\u001B[0m\u001B[0m\n",
      "\u001B[1;31mAttributeError\u001B[0m: 'DataFrame' object has no attribute 'cbwd'"
     ]
    }
   ],
   "source": [
    "data.cbwd.unique()"
   ]
  },
  {
   "cell_type": "code",
   "execution_count": 23,
   "metadata": {},
   "outputs": [],
   "source": [
    "data = data.join(pd.get_dummies(data.cbwd))"
   ]
  },
  {
   "cell_type": "code",
   "execution_count": 24,
   "metadata": {},
   "outputs": [],
   "source": [
    "del data['cbwd']"
   ]
  },
  {
   "cell_type": "code",
   "execution_count": 25,
   "metadata": {},
   "outputs": [
    {
     "name": "stdout",
     "output_type": "stream",
     "text": [
      "<class 'pandas.core.frame.DataFrame'>\n",
      "DatetimeIndex: 43800 entries, 2010-01-02 00:00:00 to 2014-12-31 23:00:00\n",
      "Data columns (total 12 columns):\n",
      " #   Column  Non-Null Count  Dtype  \n",
      "---  ------  --------------  -----  \n",
      " 0   No      43800 non-null  int64  \n",
      " 1   pm2.5   43800 non-null  float64\n",
      " 2   DEWP    43800 non-null  int64  \n",
      " 3   TEMP    43800 non-null  float64\n",
      " 4   PRES    43800 non-null  float64\n",
      " 5   Iws     43800 non-null  float64\n",
      " 6   Is      43800 non-null  int64  \n",
      " 7   Ir      43800 non-null  int64  \n",
      " 8   NE      43800 non-null  uint8  \n",
      " 9   NW      43800 non-null  uint8  \n",
      " 10  SE      43800 non-null  uint8  \n",
      " 11  cv      43800 non-null  uint8  \n",
      "dtypes: float64(4), int64(4), uint8(4)\n",
      "memory usage: 4.2 MB\n"
     ]
    }
   ],
   "source": [
    "data.info()"
   ]
  },
  {
   "cell_type": "code",
   "execution_count": 28,
   "metadata": {},
   "outputs": [
    {
     "data": {
      "text/plain": "<AxesSubplot:xlabel='time'>"
     },
     "execution_count": 28,
     "metadata": {},
     "output_type": "execute_result"
    },
    {
     "data": {
      "text/plain": "<Figure size 432x288 with 1 Axes>",
      "image/png": "[encoded data removed]"
     },
     "metadata": {
      "needs_background": "light"
     },
     "output_type": "display_data"
    }
   ],
   "source": [
    "data['pm2.5'][-1000:].plot()"
   ]
  },
  {
   "cell_type": "code",
   "execution_count": 30,
   "metadata": {},
   "outputs": [
    {
     "ename": "KeyError",
     "evalue": "'temp'",
     "output_type": "error",
     "traceback": [
      "\u001B[1;31m---------------------------------------------------------------------------\u001B[0m",
      "\u001B[1;31mKeyError\u001B[0m                                  Traceback (most recent call last)",
      "\u001B[1;32mD:\\Works\\TensorFlowLearn\\VirtualenvTensorFlow\\lib\\site-packages\\pandas\\core\\indexes\\base.py\u001B[0m in \u001B[0;36mget_loc\u001B[1;34m(self, key, method, tolerance)\u001B[0m\n\u001B[0;32m   3360\u001B[0m             \u001B[1;32mtry\u001B[0m\u001B[1;33m:\u001B[0m\u001B[1;33m\u001B[0m\u001B[1;33m\u001B[0m\u001B[0m\n\u001B[1;32m-> 3361\u001B[1;33m                 \u001B[1;32mreturn\u001B[0m \u001B[0mself\u001B[0m\u001B[1;33m.\u001B[0m\u001B[0m_engine\u001B[0m\u001B[1;33m.\u001B[0m\u001B[0mget_loc\u001B[0m\u001B[1;33m(\u001B[0m\u001B[0mcasted_key\u001B[0m\u001B[1;33m)\u001B[0m\u001B[1;33m\u001B[0m\u001B[1;33m\u001B[0m\u001B[0m\n\u001B[0m\u001B[0;32m   3362\u001B[0m             \u001B[1;32mexcept\u001B[0m \u001B[0mKeyError\u001B[0m \u001B[1;32mas\u001B[0m \u001B[0merr\u001B[0m\u001B[1;33m:\u001B[0m\u001B[1;33m\u001B[0m\u001B[1;33m\u001B[0m\u001B[0m\n",
      "\u001B[1;32mD:\\Works\\TensorFlowLearn\\VirtualenvTensorFlow\\lib\\site-packages\\pandas\\_libs\\index.pyx\u001B[0m in \u001B[0;36mpandas._libs.index.IndexEngine.get_loc\u001B[1;34m()\u001B[0m\n",
      "\u001B[1;32mD:\\Works\\TensorFlowLearn\\VirtualenvTensorFlow\\lib\\site-packages\\pandas\\_libs\\index.pyx\u001B[0m in \u001B[0;36mpandas._libs.index.IndexEngine.get_loc\u001B[1;34m()\u001B[0m\n",
      "\u001B[1;32mpandas\\_libs\\hashtable_class_helper.pxi\u001B[0m in \u001B[0;36mpandas._libs.hashtable.PyObjectHashTable.get_item\u001B[1;34m()\u001B[0m\n",
      "\u001B[1;32mpandas\\_libs\\hashtable_class_helper.pxi\u001B[0m in \u001B[0;36mpandas._libs.hashtable.PyObjectHashTable.get_item\u001B[1;34m()\u001B[0m\n",
      "\u001B[1;31mKeyError\u001B[0m: 'temp'",
      "\nThe above exception was the direct cause of the following exception:\n",
      "\u001B[1;31mKeyError\u001B[0m                                  Traceback (most recent call last)",
      "\u001B[1;32mC:\\Users\\AURORE~1\\AppData\\Local\\Temp/ipykernel_34268/1371917457.py\u001B[0m in \u001B[0;36m<module>\u001B[1;34m\u001B[0m\n\u001B[1;32m----> 1\u001B[1;33m \u001B[0mdata\u001B[0m\u001B[1;33m[\u001B[0m\u001B[1;34m'temp'\u001B[0m\u001B[1;33m]\u001B[0m\u001B[1;33m[\u001B[0m\u001B[1;33m-\u001B[0m\u001B[1;36m1000\u001B[0m\u001B[1;33m:\u001B[0m\u001B[1;33m]\u001B[0m\u001B[1;33m.\u001B[0m\u001B[0mplot\u001B[0m\u001B[1;33m(\u001B[0m\u001B[1;33m)\u001B[0m\u001B[1;33m\u001B[0m\u001B[1;33m\u001B[0m\u001B[0m\n\u001B[0m\u001B[0;32m      2\u001B[0m \u001B[1;33m\u001B[0m\u001B[0m\n",
      "\u001B[1;32mD:\\Works\\TensorFlowLearn\\VirtualenvTensorFlow\\lib\\site-packages\\pandas\\core\\frame.py\u001B[0m in \u001B[0;36m__getitem__\u001B[1;34m(self, key)\u001B[0m\n\u001B[0;32m   3456\u001B[0m             \u001B[1;32mif\u001B[0m \u001B[0mself\u001B[0m\u001B[1;33m.\u001B[0m\u001B[0mcolumns\u001B[0m\u001B[1;33m.\u001B[0m\u001B[0mnlevels\u001B[0m \u001B[1;33m>\u001B[0m \u001B[1;36m1\u001B[0m\u001B[1;33m:\u001B[0m\u001B[1;33m\u001B[0m\u001B[1;33m\u001B[0m\u001B[0m\n\u001B[0;32m   3457\u001B[0m                 \u001B[1;32mreturn\u001B[0m \u001B[0mself\u001B[0m\u001B[1;33m.\u001B[0m\u001B[0m_getitem_multilevel\u001B[0m\u001B[1;33m(\u001B[0m\u001B[0mkey\u001B[0m\u001B[1;33m)\u001B[0m\u001B[1;33m\u001B[0m\u001B[1;33m\u001B[0m\u001B[0m\n\u001B[1;32m-> 3458\u001B[1;33m             \u001B[0mindexer\u001B[0m \u001B[1;33m=\u001B[0m \u001B[0mself\u001B[0m\u001B[1;33m.\u001B[0m\u001B[0mcolumns\u001B[0m\u001B[1;33m.\u001B[0m\u001B[0mget_loc\u001B[0m\u001B[1;33m(\u001B[0m\u001B[0mkey\u001B[0m\u001B[1;33m)\u001B[0m\u001B[1;33m\u001B[0m\u001B[1;33m\u001B[0m\u001B[0m\n\u001B[0m\u001B[0;32m   3459\u001B[0m             \u001B[1;32mif\u001B[0m \u001B[0mis_integer\u001B[0m\u001B[1;33m(\u001B[0m\u001B[0mindexer\u001B[0m\u001B[1;33m)\u001B[0m\u001B[1;33m:\u001B[0m\u001B[1;33m\u001B[0m\u001B[1;33m\u001B[0m\u001B[0m\n\u001B[0;32m   3460\u001B[0m                 \u001B[0mindexer\u001B[0m \u001B[1;33m=\u001B[0m \u001B[1;33m[\u001B[0m\u001B[0mindexer\u001B[0m\u001B[1;33m]\u001B[0m\u001B[1;33m\u001B[0m\u001B[1;33m\u001B[0m\u001B[0m\n",
      "\u001B[1;32mD:\\Works\\TensorFlowLearn\\VirtualenvTensorFlow\\lib\\site-packages\\pandas\\core\\indexes\\base.py\u001B[0m in \u001B[0;36mget_loc\u001B[1;34m(self, key, method, tolerance)\u001B[0m\n\u001B[0;32m   3361\u001B[0m                 \u001B[1;32mreturn\u001B[0m \u001B[0mself\u001B[0m\u001B[1;33m.\u001B[0m\u001B[0m_engine\u001B[0m\u001B[1;33m.\u001B[0m\u001B[0mget_loc\u001B[0m\u001B[1;33m(\u001B[0m\u001B[0mcasted_key\u001B[0m\u001B[1;33m)\u001B[0m\u001B[1;33m\u001B[0m\u001B[1;33m\u001B[0m\u001B[0m\n\u001B[0;32m   3362\u001B[0m             \u001B[1;32mexcept\u001B[0m \u001B[0mKeyError\u001B[0m \u001B[1;32mas\u001B[0m \u001B[0merr\u001B[0m\u001B[1;33m:\u001B[0m\u001B[1;33m\u001B[0m\u001B[1;33m\u001B[0m\u001B[0m\n\u001B[1;32m-> 3363\u001B[1;33m                 \u001B[1;32mraise\u001B[0m \u001B[0mKeyError\u001B[0m\u001B[1;33m(\u001B[0m\u001B[0mkey\u001B[0m\u001B[1;33m)\u001B[0m \u001B[1;32mfrom\u001B[0m \u001B[0merr\u001B[0m\u001B[1;33m\u001B[0m\u001B[1;33m\u001B[0m\u001B[0m\n\u001B[0m\u001B[0;32m   3364\u001B[0m \u001B[1;33m\u001B[0m\u001B[0m\n\u001B[0;32m   3365\u001B[0m         \u001B[1;32mif\u001B[0m \u001B[0mis_scalar\u001B[0m\u001B[1;33m(\u001B[0m\u001B[0mkey\u001B[0m\u001B[1;33m)\u001B[0m \u001B[1;32mand\u001B[0m \u001B[0misna\u001B[0m\u001B[1;33m(\u001B[0m\u001B[0mkey\u001B[0m\u001B[1;33m)\u001B[0m \u001B[1;32mand\u001B[0m \u001B[1;32mnot\u001B[0m \u001B[0mself\u001B[0m\u001B[1;33m.\u001B[0m\u001B[0mhasnans\u001B[0m\u001B[1;33m:\u001B[0m\u001B[1;33m\u001B[0m\u001B[1;33m\u001B[0m\u001B[0m\n",
      "\u001B[1;31mKeyError\u001B[0m: 'temp'"
     ]
    }
   ],
   "source": [
    "data['temp'][-1000:].plot()"
   ]
  },
  {
   "cell_type": "code",
   "execution_count": 22,
   "metadata": {},
   "outputs": [
    {
     "data": {
      "text/html": [
       "<div>\n",
       "<style scoped>\n",
       "    .dataframe tbody tr th:only-of-type {\n",
       "        vertical-align: middle;\n",
       "    }\n",
       "\n",
       "    .dataframe tbody tr th {\n",
       "        vertical-align: top;\n",
       "    }\n",
       "\n",
       "    .dataframe thead th {\n",
       "        text-align: right;\n",
       "    }\n",
       "</style>\n",
       "<table border=\"1\" class=\"dataframe\">\n",
       "  <thead>\n",
       "    <tr style=\"text-align: right;\">\n",
       "      <th></th>\n",
       "      <th>pm2.5</th>\n",
       "      <th>dew</th>\n",
       "      <th>temp</th>\n",
       "      <th>press</th>\n",
       "      <th>iws</th>\n",
       "      <th>snow</th>\n",
       "      <th>rain</th>\n",
       "      <th>NE</th>\n",
       "      <th>NW</th>\n",
       "      <th>SE</th>\n",
       "      <th>cv</th>\n",
       "    </tr>\n",
       "    <tr>\n",
       "      <th>time</th>\n",
       "      <th></th>\n",
       "      <th></th>\n",
       "      <th></th>\n",
       "      <th></th>\n",
       "      <th></th>\n",
       "      <th></th>\n",
       "      <th></th>\n",
       "      <th></th>\n",
       "      <th></th>\n",
       "      <th></th>\n",
       "      <th></th>\n",
       "    </tr>\n",
       "  </thead>\n",
       "  <tbody>\n",
       "    <tr>\n",
       "      <th>2010-01-02 00:00:00</th>\n",
       "      <td>129.0</td>\n",
       "      <td>-16</td>\n",
       "      <td>-4.0</td>\n",
       "      <td>1020.0</td>\n",
       "      <td>1.79</td>\n",
       "      <td>0</td>\n",
       "      <td>0</td>\n",
       "      <td>0</td>\n",
       "      <td>0</td>\n",
       "      <td>1</td>\n",
       "      <td>0</td>\n",
       "    </tr>\n",
       "    <tr>\n",
       "      <th>2010-01-02 01:00:00</th>\n",
       "      <td>148.0</td>\n",
       "      <td>-15</td>\n",
       "      <td>-4.0</td>\n",
       "      <td>1020.0</td>\n",
       "      <td>2.68</td>\n",
       "      <td>0</td>\n",
       "      <td>0</td>\n",
       "      <td>0</td>\n",
       "      <td>0</td>\n",
       "      <td>1</td>\n",
       "      <td>0</td>\n",
       "    </tr>\n",
       "    <tr>\n",
       "      <th>2010-01-02 02:00:00</th>\n",
       "      <td>159.0</td>\n",
       "      <td>-11</td>\n",
       "      <td>-5.0</td>\n",
       "      <td>1021.0</td>\n",
       "      <td>3.57</td>\n",
       "      <td>0</td>\n",
       "      <td>0</td>\n",
       "      <td>0</td>\n",
       "      <td>0</td>\n",
       "      <td>1</td>\n",
       "      <td>0</td>\n",
       "    </tr>\n",
       "  </tbody>\n",
       "</table>\n",
       "</div>"
      ],
      "text/plain": [
       "                     pm2.5  dew  temp   press   iws  snow  rain  NE  NW  SE  \\\n",
       "time                                                                          \n",
       "2010-01-02 00:00:00  129.0  -16  -4.0  1020.0  1.79     0     0   0   0   1   \n",
       "2010-01-02 01:00:00  148.0  -15  -4.0  1020.0  2.68     0     0   0   0   1   \n",
       "2010-01-02 02:00:00  159.0  -11  -5.0  1021.0  3.57     0     0   0   0   1   \n",
       "\n",
       "                     cv  \n",
       "time                     \n",
       "2010-01-02 00:00:00   0  \n",
       "2010-01-02 01:00:00   0  \n",
       "2010-01-02 02:00:00   0  "
      ]
     },
     "execution_count": 22,
     "metadata": {},
     "output_type": "execute_result"
    }
   ],
   "source": [
    "data.head(3)"
   ]
  },
  {
   "cell_type": "code",
   "execution_count": 23,
   "metadata": {},
   "outputs": [],
   "source": [
    "sequence_length = 5*24\n",
    "delay = 24"
   ]
  },
  {
   "cell_type": "code",
   "execution_count": 31,
   "metadata": {},
   "outputs": [
    {
     "ename": "NameError",
     "evalue": "name 'sequence_length' is not defined",
     "output_type": "error",
     "traceback": [
      "\u001B[1;31m---------------------------------------------------------------------------\u001B[0m",
      "\u001B[1;31mNameError\u001B[0m                                 Traceback (most recent call last)",
      "\u001B[1;32mC:\\Users\\AURORE~1\\AppData\\Local\\Temp/ipykernel_34268/2588357420.py\u001B[0m in \u001B[0;36m<module>\u001B[1;34m\u001B[0m\n\u001B[0;32m      1\u001B[0m \u001B[0mdata_\u001B[0m \u001B[1;33m=\u001B[0m \u001B[1;33m[\u001B[0m\u001B[1;33m]\u001B[0m\u001B[1;33m\u001B[0m\u001B[1;33m\u001B[0m\u001B[0m\n\u001B[1;32m----> 2\u001B[1;33m \u001B[1;32mfor\u001B[0m \u001B[0mi\u001B[0m \u001B[1;32min\u001B[0m \u001B[0mrange\u001B[0m\u001B[1;33m(\u001B[0m\u001B[0mlen\u001B[0m\u001B[1;33m(\u001B[0m\u001B[0mdata\u001B[0m\u001B[1;33m)\u001B[0m \u001B[1;33m-\u001B[0m \u001B[0msequence_length\u001B[0m \u001B[1;33m-\u001B[0m \u001B[0mdelay\u001B[0m\u001B[1;33m)\u001B[0m\u001B[1;33m:\u001B[0m\u001B[1;33m\u001B[0m\u001B[1;33m\u001B[0m\u001B[0m\n\u001B[0m\u001B[0;32m      3\u001B[0m     \u001B[0mdata_\u001B[0m\u001B[1;33m.\u001B[0m\u001B[0mappend\u001B[0m\u001B[1;33m(\u001B[0m\u001B[0mdata\u001B[0m\u001B[1;33m.\u001B[0m\u001B[0miloc\u001B[0m\u001B[1;33m[\u001B[0m\u001B[0mi\u001B[0m\u001B[1;33m:\u001B[0m \u001B[0mi\u001B[0m \u001B[1;33m+\u001B[0m \u001B[0msequence_length\u001B[0m \u001B[1;33m+\u001B[0m \u001B[0mdelay\u001B[0m\u001B[1;33m]\u001B[0m\u001B[1;33m)\u001B[0m\u001B[1;33m\u001B[0m\u001B[1;33m\u001B[0m\u001B[0m\n\u001B[0;32m      4\u001B[0m \u001B[1;33m\u001B[0m\u001B[0m\n",
      "\u001B[1;31mNameError\u001B[0m: name 'sequence_length' is not defined"
     ]
    }
   ],
   "source": [
    "data_ = []\n",
    "for i in range(len(data) - sequence_length - delay):\n",
    "    data_.append(data.iloc[i: i + sequence_length + delay])"
   ]
  },
  {
   "cell_type": "code",
   "execution_count": 25,
   "metadata": {},
   "outputs": [],
   "source": [
    "data_ = np.array([df.values for df in data_])"
   ]
  },
  {
   "cell_type": "code",
   "execution_count": 26,
   "metadata": {},
   "outputs": [
    {
     "data": {
      "text/plain": [
       "(43656, 144, 11)"
      ]
     },
     "execution_count": 26,
     "metadata": {},
     "output_type": "execute_result"
    }
   ],
   "source": [
    "data_.shape"
   ]
  },
  {
   "cell_type": "code",
   "execution_count": 27,
   "metadata": {},
   "outputs": [],
   "source": [
    "np.random.shuffle(data_)"
   ]
  },
  {
   "cell_type": "code",
   "execution_count": 28,
   "metadata": {},
   "outputs": [],
   "source": [
    "x = data_[:, :-delay, :]\n",
    "y = data_[:, -1, 0]"
   ]
  },
  {
   "cell_type": "code",
   "execution_count": 36,
   "metadata": {},
   "outputs": [
    {
     "ename": "AttributeError",
     "evalue": "'list' object has no attribute 'shape'",
     "output_type": "error",
     "traceback": [
      "\u001B[1;31m---------------------------------------------------------------------------\u001B[0m",
      "\u001B[1;31mAttributeError\u001B[0m                            Traceback (most recent call last)",
      "\u001B[1;32mC:\\Users\\AURORE~1\\AppData\\Local\\Temp/ipykernel_34268/1719430580.py\u001B[0m in \u001B[0;36m<module>\u001B[1;34m\u001B[0m\n\u001B[1;32m----> 1\u001B[1;33m \u001B[0msplit_boundary\u001B[0m \u001B[1;33m=\u001B[0m \u001B[0mint\u001B[0m\u001B[1;33m(\u001B[0m\u001B[0mdata_\u001B[0m\u001B[1;33m.\u001B[0m\u001B[0mshape\u001B[0m\u001B[1;33m[\u001B[0m\u001B[1;36m0\u001B[0m\u001B[1;33m]\u001B[0m \u001B[1;33m*\u001B[0m \u001B[1;36m0.8\u001B[0m\u001B[1;33m)\u001B[0m\u001B[1;33m\u001B[0m\u001B[1;33m\u001B[0m\u001B[0m\n\u001B[0m\u001B[0;32m      2\u001B[0m \u001B[1;33m\u001B[0m\u001B[0m\n",
      "\u001B[1;31mAttributeError\u001B[0m: 'list' object has no attribute 'shape'"
     ]
    }
   ],
   "source": [
    "split_boundary = int(data_.shape[0] * 0.8)"
   ]
  },
  {
   "cell_type": "code",
   "execution_count": 30,
   "metadata": {},
   "outputs": [],
   "source": [
    "train_x = x[: split_boundary]\n",
    "test_x = x[split_boundary:]\n",
    "\n",
    "train_y = y[: split_boundary]\n",
    "test_y = y[split_boundary:]"
   ]
  },
  {
   "cell_type": "code",
   "execution_count": 31,
   "metadata": {},
   "outputs": [
    {
     "data": {
      "text/plain": [
       "((34924, 120, 11), (8732, 120, 11), (34924,), (8732,))"
      ]
     },
     "execution_count": 31,
     "metadata": {},
     "output_type": "execute_result"
    }
   ],
   "source": [
    "train_x.shape, test_x.shape, train_y.shape, test_y.shape"
   ]
  },
  {
   "cell_type": "code",
   "execution_count": 32,
   "metadata": {},
   "outputs": [],
   "source": [
    "mean = train_x.mean(axis=0)\n",
    "std = train_x.std(axis=0)"
   ]
  },
  {
   "cell_type": "code",
   "execution_count": 33,
   "metadata": {},
   "outputs": [
    {
     "data": {
      "text/plain": [
       "(120, 11)"
      ]
     },
     "execution_count": 33,
     "metadata": {},
     "output_type": "execute_result"
    }
   ],
   "source": [
    "mean.shape"
   ]
  },
  {
   "cell_type": "code",
   "execution_count": 34,
   "metadata": {},
   "outputs": [],
   "source": [
    "train_x = (train_x - mean)/std"
   ]
  },
  {
   "cell_type": "code",
   "execution_count": 35,
   "metadata": {},
   "outputs": [],
   "source": [
    "test_x = (test_x - mean)/std"
   ]
  },
  {
   "cell_type": "code",
   "execution_count": 36,
   "metadata": {},
   "outputs": [],
   "source": [
    "batch_size = 128"
   ]
  },
  {
   "cell_type": "code",
   "execution_count": 37,
   "metadata": {},
   "outputs": [],
   "source": [
    "model = keras.Sequential()\n",
    "model.add(layers.Flatten(input_shape=(train_x.shape[1:])))\n",
    "model.add(layers.Dense(32, activation='relu'))\n",
    "model.add(layers.Dense(1))"
   ]
  },
  {
   "cell_type": "code",
   "execution_count": 38,
   "metadata": {},
   "outputs": [
    {
     "name": "stdout",
     "output_type": "stream",
     "text": [
      "Train on 34924 samples, validate on 8732 samples\n",
      "Epoch 1/50\n",
      "34924/34924 [==============================] - 3s 75us/step - loss: 71.7460 - val_loss: 65.2065\n",
      "Epoch 2/50\n",
      "34924/34924 [==============================] - 2s 57us/step - loss: 62.5733 - val_loss: 60.3283\n",
      "Epoch 3/50\n",
      "34924/34924 [==============================] - 2s 57us/step - loss: 59.3116 - val_loss: 59.0022\n",
      "Epoch 4/50\n",
      "34924/34924 [==============================] - 2s 56us/step - loss: 57.8837 - val_loss: 58.0606\n",
      "Epoch 5/50\n",
      "34924/34924 [==============================] - 2s 56us/step - loss: 56.8580 - val_loss: 57.3702\n",
      "Epoch 6/50\n",
      "34924/34924 [==============================] - 2s 55us/step - loss: 56.0321 - val_loss: 57.1347\n",
      "Epoch 7/50\n",
      "34924/34924 [==============================] - 2s 55us/step - loss: 55.2609 - val_loss: 56.4148\n",
      "Epoch 8/50\n",
      "34924/34924 [==============================] - 2s 55us/step - loss: 54.5894 - val_loss: 56.0588\n",
      "Epoch 9/50\n",
      "34924/34924 [==============================] - 2s 55us/step - loss: 53.9925 - val_loss: 55.5950\n",
      "Epoch 10/50\n",
      "34924/34924 [==============================] - 2s 55us/step - loss: 53.4920 - val_loss: 55.3156\n",
      "Epoch 11/50\n",
      "34924/34924 [==============================] - 2s 56us/step - loss: 53.0224 - val_loss: 55.0190\n",
      "Epoch 12/50\n",
      "34924/34924 [==============================] - 2s 56us/step - loss: 52.5978 - val_loss: 54.7303\n",
      "Epoch 13/50\n",
      "34924/34924 [==============================] - 2s 56us/step - loss: 52.1017 - val_loss: 54.4654\n",
      "Epoch 14/50\n",
      "34924/34924 [==============================] - 2s 55us/step - loss: 51.7422 - val_loss: 54.5915\n",
      "Epoch 15/50\n",
      "34924/34924 [==============================] - 2s 56us/step - loss: 51.3700 - val_loss: 54.1301\n",
      "Epoch 16/50\n",
      "34924/34924 [==============================] - 2s 58us/step - loss: 51.0246 - val_loss: 53.9921\n",
      "Epoch 17/50\n",
      "34924/34924 [==============================] - 2s 57us/step - loss: 50.6968 - val_loss: 53.5916\n",
      "Epoch 18/50\n",
      "34924/34924 [==============================] - 2s 56us/step - loss: 50.3249 - val_loss: 53.5372\n",
      "Epoch 19/50\n",
      "34924/34924 [==============================] - 2s 58us/step - loss: 49.9679 - val_loss: 53.2998\n",
      "Epoch 20/50\n",
      "34924/34924 [==============================] - 2s 57us/step - loss: 49.6930 - val_loss: 53.2111\n",
      "Epoch 21/50\n",
      "34924/34924 [==============================] - 2s 57us/step - loss: 49.3411 - val_loss: 52.9237\n",
      "Epoch 22/50\n",
      "34924/34924 [==============================] - 2s 56us/step - loss: 49.0449 - val_loss: 53.0674\n",
      "Epoch 23/50\n",
      "34924/34924 [==============================] - 2s 56us/step - loss: 48.6885 - val_loss: 52.8563\n",
      "Epoch 24/50\n",
      "34924/34924 [==============================] - 2s 58us/step - loss: 48.3474 - val_loss: 52.5821\n",
      "Epoch 25/50\n",
      "34924/34924 [==============================] - 2s 57us/step - loss: 48.1022 - val_loss: 52.3616\n",
      "Epoch 26/50\n",
      "34924/34924 [==============================] - 2s 57us/step - loss: 47.8395 - val_loss: 52.3695\n",
      "Epoch 27/50\n",
      "34924/34924 [==============================] - 2s 57us/step - loss: 47.4865 - val_loss: 52.0694\n",
      "Epoch 28/50\n",
      "34924/34924 [==============================] - 2s 56us/step - loss: 47.2276 - val_loss: 52.0108\n",
      "Epoch 29/50\n",
      "34924/34924 [==============================] - 2s 56us/step - loss: 46.9969 - val_loss: 51.7885\n",
      "Epoch 30/50\n",
      "34924/34924 [==============================] - 2s 56us/step - loss: 46.5736 - val_loss: 51.6318\n",
      "Epoch 31/50\n",
      "34924/34924 [==============================] - 2s 57us/step - loss: 46.3649 - val_loss: 51.5011\n",
      "Epoch 32/50\n",
      "34924/34924 [==============================] - 2s 58us/step - loss: 46.0676 - val_loss: 51.5093\n",
      "Epoch 33/50\n",
      "34924/34924 [==============================] - 2s 57us/step - loss: 45.8191 - val_loss: 51.3463\n",
      "Epoch 34/50\n",
      "34924/34924 [==============================] - 2s 57us/step - loss: 45.5711 - val_loss: 51.3255\n",
      "Epoch 35/50\n",
      "34924/34924 [==============================] - 2s 58us/step - loss: 45.2836 - val_loss: 51.1241\n",
      "Epoch 36/50\n",
      "34924/34924 [==============================] - 2s 57us/step - loss: 45.0567 - val_loss: 51.0044\n",
      "Epoch 37/50\n",
      "34924/34924 [==============================] - 2s 58us/step - loss: 44.8729 - val_loss: 50.8664\n",
      "Epoch 38/50\n",
      "34924/34924 [==============================] - 2s 58us/step - loss: 44.5874 - val_loss: 50.7929\n",
      "Epoch 39/50\n",
      "34924/34924 [==============================] - 2s 58us/step - loss: 44.4420 - val_loss: 50.8136\n",
      "Epoch 40/50\n",
      "34924/34924 [==============================] - 2s 58us/step - loss: 44.1344 - val_loss: 50.6078\n",
      "Epoch 41/50\n",
      "34924/34924 [==============================] - 2s 59us/step - loss: 43.9177 - val_loss: 50.4238\n",
      "Epoch 42/50\n",
      "34924/34924 [==============================] - 2s 58us/step - loss: 43.7143 - val_loss: 50.4359\n",
      "Epoch 43/50\n",
      "34924/34924 [==============================] - 2s 54us/step - loss: 43.4874 - val_loss: 50.3264\n",
      "Epoch 44/50\n",
      "34924/34924 [==============================] - 2s 57us/step - loss: 43.2906 - val_loss: 50.2380\n",
      "Epoch 45/50\n",
      "34924/34924 [==============================] - 2s 56us/step - loss: 43.1005 - val_loss: 50.0798\n",
      "Epoch 46/50\n",
      "34924/34924 [==============================] - 2s 58us/step - loss: 42.8617 - val_loss: 50.0128\n",
      "Epoch 47/50\n",
      "34924/34924 [==============================] - 2s 54us/step - loss: 42.6770 - val_loss: 49.9995\n",
      "Epoch 48/50\n",
      "34924/34924 [==============================] - 2s 57us/step - loss: 42.4921 - val_loss: 50.2413\n",
      "Epoch 49/50\n",
      "34924/34924 [==============================] - 2s 56us/step - loss: 42.3911 - val_loss: 49.8562\n",
      "Epoch 50/50\n",
      "34924/34924 [==============================] - 2s 54us/step - loss: 42.1543 - val_loss: 49.6705\n"
     ]
    }
   ],
   "source": [
    "model.compile(optimizer=keras.optimizers.Adam(), loss='mae')\n",
    "history = model.fit(train_x, train_y,\n",
    "                    batch_size = 128,\n",
    "                    epochs=50,\n",
    "                    validation_data=(test_x, test_y)\n",
    "                    )"
   ]
  },
  {
   "cell_type": "code",
   "execution_count": 39,
   "metadata": {},
   "outputs": [
    {
     "data": {
      "text/plain": [
       "<matplotlib.legend.Legend at 0x3c5c0d64e0>"
      ]
     },
     "execution_count": 39,
     "metadata": {},
     "output_type": "execute_result"
    },
    {
     "data": {
      "image/png": "[encoded data removed]",
      "text/plain": [
       "<matplotlib.figure.Figure at 0x3c5c0a99b0>"
      ]
     },
     "metadata": {},
     "output_type": "display_data"
    }
   ],
   "source": [
    "plt.plot(history.epoch, history.history.get('loss'), 'y', label='Training loss')\n",
    "plt.plot(history.epoch, history.history.get('val_loss'), 'b', label='Test loss')\n",
    "plt.legend()"
   ]
  },
  {
   "cell_type": "code",
   "execution_count": 46,
   "metadata": {},
   "outputs": [],
   "source": [
    "model = keras.Sequential()\n",
    "model.add(layers.LSTM(32, input_shape=(train_x.shape[1:])))\n",
    "model.add(layers.Dense(1))"
   ]
  },
  {
   "cell_type": "code",
   "execution_count": 47,
   "metadata": {},
   "outputs": [],
   "source": [
    "model.compile(optimizer=keras.optimizers.Adam(), loss='mae')"
   ]
  },
  {
   "cell_type": "code",
   "execution_count": 48,
   "metadata": {},
   "outputs": [
    {
     "name": "stdout",
     "output_type": "stream",
     "text": [
      "Train on 34924 samples, validate on 8732 samples\n",
      "Epoch 1/200\n",
      "34924/34924 [==============================] - 56s 2ms/step - loss: 88.4082 - val_loss: 82.0198\n",
      "Epoch 2/200\n",
      "34924/34924 [==============================] - 56s 2ms/step - loss: 80.1085 - val_loss: 76.9022\n",
      "Epoch 3/200\n",
      "34924/34924 [==============================] - 55s 2ms/step - loss: 75.8771 - val_loss: 73.2824\n",
      "Epoch 4/200\n",
      "34924/34924 [==============================] - 53s 2ms/step - loss: 72.7580 - val_loss: 70.5160\n",
      "Epoch 5/200\n",
      "34924/34924 [==============================] - 53s 2ms/step - loss: 70.4230 - val_loss: 68.4795\n",
      "Epoch 6/200\n",
      "34924/34924 [==============================] - 53s 2ms/step - loss: 68.6456 - val_loss: 66.8473\n",
      "Epoch 7/200\n",
      "34924/34924 [==============================] - 53s 2ms/step - loss: 66.9879 - val_loss: 65.1626\n",
      "Epoch 8/200\n",
      "34924/34924 [==============================] - 53s 2ms/step - loss: 65.4807 - val_loss: 63.8404\n",
      "Epoch 9/200\n",
      "34924/34924 [==============================] - 53s 2ms/step - loss: 64.2429 - val_loss: 62.7605\n",
      "Epoch 10/200\n",
      "34924/34924 [==============================] - 53s 2ms/step - loss: 63.2045 - val_loss: 61.8243\n",
      "Epoch 11/200\n",
      "34924/34924 [==============================] - 53s 2ms/step - loss: 62.3464 - val_loss: 61.1196\n",
      "Epoch 12/200\n",
      "34924/34924 [==============================] - 53s 2ms/step - loss: 61.6600 - val_loss: 60.5011\n",
      "Epoch 13/200\n",
      "34924/34924 [==============================] - 53s 2ms/step - loss: 61.0490 - val_loss: 60.1403\n",
      "Epoch 14/200\n",
      "34924/34924 [==============================] - 53s 2ms/step - loss: 60.5899 - val_loss: 59.6954\n",
      "Epoch 15/200\n",
      "34924/34924 [==============================] - 53s 2ms/step - loss: 60.1664 - val_loss: 59.2896\n",
      "Epoch 16/200\n",
      "34924/34924 [==============================] - 53s 2ms/step - loss: 59.8112 - val_loss: 59.0759\n",
      "Epoch 17/200\n",
      "34924/34924 [==============================] - 53s 2ms/step - loss: 59.4370 - val_loss: 58.6002\n",
      "Epoch 18/200\n",
      "34924/34924 [==============================] - 53s 2ms/step - loss: 59.1313 - val_loss: 58.3882\n",
      "Epoch 19/200\n",
      "34924/34924 [==============================] - 53s 2ms/step - loss: 58.7555 - val_loss: 58.1178\n",
      "Epoch 20/200\n",
      "34924/34924 [==============================] - 55s 2ms/step - loss: 58.6206 - val_loss: 61.6982\n",
      "Epoch 21/200\n",
      "34924/34924 [==============================] - 54s 2ms/step - loss: 59.1605 - val_loss: 58.1357\n",
      "Epoch 22/200\n",
      "34924/34924 [==============================] - 54s 2ms/step - loss: 58.5323 - val_loss: 58.1251\n",
      "Epoch 23/200\n",
      "34924/34924 [==============================] - 54s 2ms/step - loss: 58.3359 - val_loss: 57.6792\n",
      "Epoch 24/200\n",
      "34924/34924 [==============================] - 54s 2ms/step - loss: 57.8960 - val_loss: 57.2341\n",
      "Epoch 25/200\n",
      "34924/34924 [==============================] - 54s 2ms/step - loss: 57.8130 - val_loss: 57.3571\n",
      "Epoch 26/200\n",
      "34924/34924 [==============================] - 54s 2ms/step - loss: 57.6060 - val_loss: 57.2525\n",
      "Epoch 27/200\n",
      "34924/34924 [==============================] - 55s 2ms/step - loss: 58.0734 - val_loss: 57.4762\n",
      "Epoch 28/200\n",
      "34924/34924 [==============================] - 55s 2ms/step - loss: 57.3353 - val_loss: 56.8936\n",
      "Epoch 29/200\n",
      "34924/34924 [==============================] - 54s 2ms/step - loss: 56.9491 - val_loss: 56.3890\n",
      "Epoch 30/200\n",
      "34924/34924 [==============================] - 54s 2ms/step - loss: 56.9155 - val_loss: 56.5406\n",
      "Epoch 31/200\n",
      "34924/34924 [==============================] - 56s 2ms/step - loss: 58.4503 - val_loss: 57.6162\n",
      "Epoch 32/200\n",
      "34924/34924 [==============================] - 55s 2ms/step - loss: 57.5602 - val_loss: 56.9147\n",
      "Epoch 33/200\n",
      "34924/34924 [==============================] - 55s 2ms/step - loss: 57.1482 - val_loss: 56.7239\n",
      "Epoch 34/200\n",
      "34924/34924 [==============================] - 54s 2ms/step - loss: 57.0121 - val_loss: 56.5631\n",
      "Epoch 35/200\n",
      "34924/34924 [==============================] - 54s 2ms/step - loss: 56.4651 - val_loss: 56.4394\n",
      "Epoch 36/200\n",
      "34924/34924 [==============================] - 54s 2ms/step - loss: 56.1943 - val_loss: 55.8624\n",
      "Epoch 37/200\n",
      "34924/34924 [==============================] - 54s 2ms/step - loss: 55.7673 - val_loss: 55.7189\n",
      "Epoch 38/200\n",
      "34924/34924 [==============================] - 55s 2ms/step - loss: 55.8813 - val_loss: 56.5730\n",
      "Epoch 39/200\n",
      "34924/34924 [==============================] - 55s 2ms/step - loss: 56.3637 - val_loss: 55.4954\n",
      "Epoch 40/200\n",
      "34924/34924 [==============================] - 54s 2ms/step - loss: 56.3497 - val_loss: 56.1470\n",
      "Epoch 41/200\n",
      "34924/34924 [==============================] - 54s 2ms/step - loss: 55.7836 - val_loss: 55.7932\n",
      "Epoch 42/200\n",
      "34924/34924 [==============================] - 54s 2ms/step - loss: 55.3279 - val_loss: 55.2385\n",
      "Epoch 43/200\n",
      "34924/34924 [==============================] - 54s 2ms/step - loss: 55.4182 - val_loss: 55.1957\n",
      "Epoch 44/200\n",
      "34924/34924 [==============================] - 54s 2ms/step - loss: 55.2093 - val_loss: 55.3018\n",
      "Epoch 45/200\n",
      "34924/34924 [==============================] - 54s 2ms/step - loss: 55.6507 - val_loss: 55.6327\n",
      "Epoch 46/200\n",
      "34924/34924 [==============================] - 55s 2ms/step - loss: 55.7982 - val_loss: 55.8936\n",
      "Epoch 47/200\n",
      "34924/34924 [==============================] - 55s 2ms/step - loss: 55.2686 - val_loss: 55.0244\n",
      "Epoch 48/200\n",
      "34924/34924 [==============================] - 55s 2ms/step - loss: 55.0766 - val_loss: 55.6669\n",
      "Epoch 49/200\n",
      "34924/34924 [==============================] - 54s 2ms/step - loss: 56.2079 - val_loss: 63.1820\n",
      "Epoch 50/200\n",
      "34924/34924 [==============================] - 54s 2ms/step - loss: 57.1285 - val_loss: 55.3025\n",
      "Epoch 51/200\n",
      "34924/34924 [==============================] - 55s 2ms/step - loss: 55.2167 - val_loss: 55.5794\n",
      "Epoch 52/200\n",
      "34924/34924 [==============================] - 55s 2ms/step - loss: 55.1570 - val_loss: 55.0615\n",
      "Epoch 53/200\n",
      "34924/34924 [==============================] - 55s 2ms/step - loss: 54.5690 - val_loss: 54.2406\n",
      "Epoch 54/200\n",
      "34924/34924 [==============================] - 53s 2ms/step - loss: 54.2337 - val_loss: 54.1200\n",
      "Epoch 55/200\n",
      "34924/34924 [==============================] - 53s 2ms/step - loss: 54.0018 - val_loss: 54.0887\n",
      "Epoch 56/200\n",
      "34924/34924 [==============================] - 53s 2ms/step - loss: 55.1140 - val_loss: 55.8283\n",
      "Epoch 57/200\n",
      "34924/34924 [==============================] - 53s 2ms/step - loss: 54.6735 - val_loss: 54.4679\n",
      "Epoch 58/200\n",
      "34924/34924 [==============================] - 53s 2ms/step - loss: 54.1294 - val_loss: 54.2874\n",
      "Epoch 59/200\n",
      "34924/34924 [==============================] - 53s 2ms/step - loss: 53.7326 - val_loss: 54.6134\n",
      "Epoch 60/200\n",
      "34924/34924 [==============================] - 53s 2ms/step - loss: 54.1140 - val_loss: 53.3964\n",
      "Epoch 61/200\n",
      "34924/34924 [==============================] - 53s 2ms/step - loss: 53.1951 - val_loss: 53.0503\n",
      "Epoch 62/200\n",
      "34924/34924 [==============================] - 54s 2ms/step - loss: 52.7983 - val_loss: 52.5595\n",
      "Epoch 63/200\n",
      "34924/34924 [==============================] - 54s 2ms/step - loss: 53.8901 - val_loss: 53.4657\n",
      "Epoch 64/200\n",
      "34924/34924 [==============================] - 55s 2ms/step - loss: 53.8611 - val_loss: 54.1512\n",
      "Epoch 65/200\n",
      "34924/34924 [==============================] - 55s 2ms/step - loss: 52.9194 - val_loss: 52.3144\n",
      "Epoch 66/200\n",
      "34924/34924 [==============================] - 55s 2ms/step - loss: 52.0191 - val_loss: 51.7674\n",
      "Epoch 67/200\n",
      "34924/34924 [==============================] - 55s 2ms/step - loss: 51.8991 - val_loss: 52.8697\n",
      "Epoch 68/200\n",
      "34924/34924 [==============================] - 54s 2ms/step - loss: 53.6219 - val_loss: 52.8773\n",
      "Epoch 69/200\n",
      "34924/34924 [==============================] - 55s 2ms/step - loss: 53.0537 - val_loss: 52.4983\n",
      "Epoch 70/200\n",
      "34924/34924 [==============================] - 55s 2ms/step - loss: 53.2674 - val_loss: 52.9440\n",
      "Epoch 71/200\n",
      "34924/34924 [==============================] - 55s 2ms/step - loss: 52.7338 - val_loss: 52.3368\n",
      "Epoch 72/200\n",
      "34924/34924 [==============================] - 54s 2ms/step - loss: 52.1569 - val_loss: 53.3196\n",
      "Epoch 73/200\n",
      "34924/34924 [==============================] - 54s 2ms/step - loss: 52.0449 - val_loss: 52.7319\n",
      "Epoch 74/200\n",
      "34924/34924 [==============================] - 54s 2ms/step - loss: 51.9700 - val_loss: 52.2091\n",
      "Epoch 75/200\n",
      "34924/34924 [==============================] - 54s 2ms/step - loss: 51.7492 - val_loss: 52.1502\n"
     ]
    },
    {
     "name": "stdout",
     "output_type": "stream",
     "text": [
      "Epoch 76/200\n",
      "34924/34924 [==============================] - 55s 2ms/step - loss: 51.8363 - val_loss: 50.9280\n",
      "Epoch 77/200\n",
      "34924/34924 [==============================] - 54s 2ms/step - loss: 50.8700 - val_loss: 51.3143\n",
      "Epoch 78/200\n",
      "34924/34924 [==============================] - 55s 2ms/step - loss: 51.0949 - val_loss: 51.7703\n",
      "Epoch 79/200\n",
      "34924/34924 [==============================] - 57s 2ms/step - loss: 51.5899 - val_loss: 51.8728\n",
      "Epoch 80/200\n",
      "34924/34924 [==============================] - 55s 2ms/step - loss: 51.3048 - val_loss: 51.4568\n",
      "Epoch 81/200\n",
      "34924/34924 [==============================] - 57s 2ms/step - loss: 52.1924 - val_loss: 52.1008\n",
      "Epoch 82/200\n",
      "34924/34924 [==============================] - 57s 2ms/step - loss: 51.4649 - val_loss: 52.4641\n",
      "Epoch 83/200\n",
      "34924/34924 [==============================] - 54s 2ms/step - loss: 52.0121 - val_loss: 51.6527\n",
      "Epoch 84/200\n",
      "34924/34924 [==============================] - 54s 2ms/step - loss: 53.9491 - val_loss: 52.9618\n",
      "Epoch 85/200\n",
      "34924/34924 [==============================] - 53s 2ms/step - loss: 52.7579 - val_loss: 52.7749\n",
      "Epoch 86/200\n",
      "34924/34924 [==============================] - 53s 2ms/step - loss: 52.7191 - val_loss: 52.4491\n",
      "Epoch 87/200\n",
      "34924/34924 [==============================] - 53s 2ms/step - loss: 51.7233 - val_loss: 51.5921\n",
      "Epoch 88/200\n",
      "34924/34924 [==============================] - 53s 2ms/step - loss: 50.8344 - val_loss: 50.4074\n",
      "Epoch 89/200\n",
      "34924/34924 [==============================] - 53s 2ms/step - loss: 50.5834 - val_loss: 50.2454\n",
      "Epoch 90/200\n",
      "34924/34924 [==============================] - 53s 2ms/step - loss: 50.6511 - val_loss: 50.1521\n",
      "Epoch 91/200\n",
      "34924/34924 [==============================] - 54s 2ms/step - loss: 49.9516 - val_loss: 50.8633\n",
      "Epoch 92/200\n",
      "34924/34924 [==============================] - 53s 2ms/step - loss: 51.0975 - val_loss: 51.8929\n",
      "Epoch 93/200\n",
      "34924/34924 [==============================] - 53s 2ms/step - loss: 49.9233 - val_loss: 50.1185\n",
      "Epoch 94/200\n",
      "34924/34924 [==============================] - 53s 2ms/step - loss: 49.2348 - val_loss: 49.3496\n",
      "Epoch 95/200\n",
      "34924/34924 [==============================] - 53s 2ms/step - loss: 50.7862 - val_loss: 50.8256\n",
      "Epoch 96/200\n",
      "34924/34924 [==============================] - 53s 2ms/step - loss: 49.7896 - val_loss: 49.7706\n",
      "Epoch 97/200\n",
      "34924/34924 [==============================] - 53s 2ms/step - loss: 50.0088 - val_loss: 49.3273\n",
      "Epoch 98/200\n",
      "34924/34924 [==============================] - 53s 2ms/step - loss: 49.5632 - val_loss: 50.0979\n",
      "Epoch 99/200\n",
      "34924/34924 [==============================] - 53s 2ms/step - loss: 52.6005 - val_loss: 56.4061\n",
      "Epoch 100/200\n",
      "34924/34924 [==============================] - 53s 2ms/step - loss: 53.5481 - val_loss: 53.8178\n",
      "Epoch 101/200\n",
      "34924/34924 [==============================] - 53s 2ms/step - loss: 52.9958 - val_loss: 52.3151\n",
      "Epoch 102/200\n",
      "34924/34924 [==============================] - 53s 2ms/step - loss: 51.3708 - val_loss: 51.9736\n",
      "Epoch 103/200\n",
      "34924/34924 [==============================] - 53s 2ms/step - loss: 50.5265 - val_loss: 50.7143\n",
      "Epoch 104/200\n",
      "34924/34924 [==============================] - 53s 2ms/step - loss: 49.9651 - val_loss: 50.1910\n",
      "Epoch 105/200\n",
      "34924/34924 [==============================] - 54s 2ms/step - loss: 49.6806 - val_loss: 49.9072\n",
      "Epoch 106/200\n",
      "34924/34924 [==============================] - 56s 2ms/step - loss: 48.8444 - val_loss: 49.0962\n",
      "Epoch 107/200\n",
      "34924/34924 [==============================] - 53s 2ms/step - loss: 49.6935 - val_loss: 50.0960\n",
      "Epoch 108/200\n",
      "34924/34924 [==============================] - 54s 2ms/step - loss: 48.9511 - val_loss: 49.0599\n",
      "Epoch 109/200\n",
      "34924/34924 [==============================] - 53s 2ms/step - loss: 48.0598 - val_loss: 48.7062\n",
      "Epoch 110/200\n",
      "34924/34924 [==============================] - 53s 2ms/step - loss: 48.3259 - val_loss: 48.3815\n",
      "Epoch 111/200\n",
      "34924/34924 [==============================] - 53s 2ms/step - loss: 49.1312 - val_loss: 49.0100\n",
      "Epoch 112/200\n",
      "34924/34924 [==============================] - 53s 2ms/step - loss: 49.0052 - val_loss: 51.0795\n",
      "Epoch 113/200\n",
      "34924/34924 [==============================] - 53s 2ms/step - loss: 49.9319 - val_loss: 50.7838\n",
      "Epoch 114/200\n",
      "34924/34924 [==============================] - 55s 2ms/step - loss: 49.0712 - val_loss: 48.5583\n",
      "Epoch 115/200\n",
      "34924/34924 [==============================] - 54s 2ms/step - loss: 48.8658 - val_loss: 49.8801\n",
      "Epoch 116/200\n",
      "34924/34924 [==============================] - 53s 2ms/step - loss: 48.7256 - val_loss: 49.0605\n",
      "Epoch 117/200\n",
      "34924/34924 [==============================] - 54s 2ms/step - loss: 49.4584 - val_loss: 49.4188\n",
      "Epoch 118/200\n",
      "34924/34924 [==============================] - 54s 2ms/step - loss: 48.2966 - val_loss: 48.3680\n",
      "Epoch 119/200\n",
      "34924/34924 [==============================] - 54s 2ms/step - loss: 49.2331 - val_loss: 49.7347\n",
      "Epoch 120/200\n",
      "34924/34924 [==============================] - 53s 2ms/step - loss: 48.5029 - val_loss: 48.5952\n",
      "Epoch 121/200\n",
      "34924/34924 [==============================] - 54s 2ms/step - loss: 47.9926 - val_loss: 48.7235\n",
      "Epoch 122/200\n",
      "34924/34924 [==============================] - 53s 2ms/step - loss: 47.6585 - val_loss: 48.4303\n",
      "Epoch 123/200\n",
      "34924/34924 [==============================] - 53s 2ms/step - loss: 51.8161 - val_loss: 50.5084\n",
      "Epoch 124/200\n",
      "34924/34924 [==============================] - 53s 2ms/step - loss: 48.0934 - val_loss: 48.0021\n",
      "Epoch 125/200\n",
      "34924/34924 [==============================] - 54s 2ms/step - loss: 47.0279 - val_loss: 47.5610\n",
      "Epoch 126/200\n",
      "34924/34924 [==============================] - 53s 2ms/step - loss: 47.3533 - val_loss: 48.5746\n",
      "Epoch 127/200\n",
      "34924/34924 [==============================] - 53s 2ms/step - loss: 46.8049 - val_loss: 48.3629\n",
      "Epoch 128/200\n",
      "34924/34924 [==============================] - 53s 2ms/step - loss: 46.5691 - val_loss: 47.0678\n",
      "Epoch 129/200\n",
      "34924/34924 [==============================] - 53s 2ms/step - loss: 47.4471 - val_loss: 48.5064\n",
      "Epoch 130/200\n",
      "34924/34924 [==============================] - 53s 2ms/step - loss: 46.2063 - val_loss: 47.1902\n",
      "Epoch 131/200\n",
      "34924/34924 [==============================] - 53s 2ms/step - loss: 45.7984 - val_loss: 46.8069\n",
      "Epoch 132/200\n",
      "34924/34924 [==============================] - 53s 2ms/step - loss: 47.7317 - val_loss: 48.3083\n",
      "Epoch 133/200\n",
      "34924/34924 [==============================] - 54s 2ms/step - loss: 47.3570 - val_loss: 51.4924\n",
      "Epoch 134/200\n",
      "34924/34924 [==============================] - 53s 2ms/step - loss: 49.5828 - val_loss: 51.4315\n",
      "Epoch 135/200\n",
      "34924/34924 [==============================] - 53s 2ms/step - loss: 48.9211 - val_loss: 53.2028\n",
      "Epoch 136/200\n",
      "34924/34924 [==============================] - 53s 2ms/step - loss: 49.9046 - val_loss: 49.2895\n",
      "Epoch 137/200\n",
      "34924/34924 [==============================] - 53s 2ms/step - loss: 47.9023 - val_loss: 49.3463\n",
      "Epoch 138/200\n",
      "34924/34924 [==============================] - 53s 2ms/step - loss: 47.8667 - val_loss: 48.9765\n",
      "Epoch 139/200\n",
      "34924/34924 [==============================] - 53s 2ms/step - loss: 47.2575 - val_loss: 47.3283\n",
      "Epoch 140/200\n",
      "34924/34924 [==============================] - 53s 2ms/step - loss: 46.2308 - val_loss: 48.5222\n",
      "Epoch 141/200\n",
      "34924/34924 [==============================] - 53s 2ms/step - loss: 48.6884 - val_loss: 49.5869\n",
      "Epoch 142/200\n",
      "34924/34924 [==============================] - 53s 2ms/step - loss: 47.7051 - val_loss: 47.9006\n",
      "Epoch 143/200\n",
      "34924/34924 [==============================] - 53s 2ms/step - loss: 49.0447 - val_loss: 49.6022\n",
      "Epoch 144/200\n",
      "34924/34924 [==============================] - 54s 2ms/step - loss: 47.4302 - val_loss: 47.3396\n",
      "Epoch 145/200\n",
      "34924/34924 [==============================] - 53s 2ms/step - loss: 49.3632 - val_loss: 52.6760\n",
      "Epoch 146/200\n",
      "34924/34924 [==============================] - 53s 2ms/step - loss: 49.4791 - val_loss: 48.7676\n",
      "Epoch 147/200\n",
      "34924/34924 [==============================] - 54s 2ms/step - loss: 47.1778 - val_loss: 47.5155\n",
      "Epoch 148/200\n",
      "34924/34924 [==============================] - 53s 2ms/step - loss: 48.1328 - val_loss: 49.7078\n",
      "Epoch 149/200\n",
      "34924/34924 [==============================] - 54s 2ms/step - loss: 49.2449 - val_loss: 48.4865\n",
      "Epoch 150/200\n",
      "34924/34924 [==============================] - 53s 2ms/step - loss: 47.5867 - val_loss: 47.8243\n",
      "Epoch 151/200\n",
      "34924/34924 [==============================] - 53s 2ms/step - loss: 46.8069 - val_loss: 47.8505\n",
      "Epoch 152/200\n",
      "34924/34924 [==============================] - 53s 2ms/step - loss: 48.5747 - val_loss: 49.6984\n",
      "Epoch 153/200\n",
      "34924/34924 [==============================] - 53s 2ms/step - loss: 47.2866 - val_loss: 48.7315\n",
      "Epoch 154/200\n",
      "34924/34924 [==============================] - 53s 2ms/step - loss: 46.4384 - val_loss: 47.2333\n",
      "Epoch 155/200\n",
      "34924/34924 [==============================] - 54s 2ms/step - loss: 45.9163 - val_loss: 46.6560\n",
      "Epoch 156/200\n",
      "34924/34924 [==============================] - 53s 2ms/step - loss: 45.3299 - val_loss: 46.4539\n",
      "Epoch 157/200\n",
      "34924/34924 [==============================] - 53s 2ms/step - loss: 45.7755 - val_loss: 47.4117\n",
      "Epoch 158/200\n",
      "34924/34924 [==============================] - 53s 2ms/step - loss: 46.1791 - val_loss: 47.1459\n",
      "Epoch 159/200\n",
      "34924/34924 [==============================] - 53s 2ms/step - loss: 45.4941 - val_loss: 47.3652\n",
      "Epoch 160/200\n",
      "34924/34924 [==============================] - 53s 2ms/step - loss: 47.6277 - val_loss: 47.0274\n",
      "Epoch 161/200\n",
      "34924/34924 [==============================] - 53s 2ms/step - loss: 46.6614 - val_loss: 47.3931\n",
      "Epoch 162/200\n",
      "34924/34924 [==============================] - 53s 2ms/step - loss: 45.9637 - val_loss: 46.4302\n",
      "Epoch 163/200\n",
      "34924/34924 [==============================] - 53s 2ms/step - loss: 45.3320 - val_loss: 46.3438\n",
      "Epoch 164/200\n",
      "34924/34924 [==============================] - 53s 2ms/step - loss: 45.0464 - val_loss: 46.4620\n",
      "Epoch 165/200\n",
      "34924/34924 [==============================] - 53s 2ms/step - loss: 46.3176 - val_loss: 47.8499\n",
      "Epoch 166/200\n",
      "34924/34924 [==============================] - 53s 2ms/step - loss: 48.5920 - val_loss: 47.8111\n",
      "Epoch 167/200\n",
      "34924/34924 [==============================] - 53s 2ms/step - loss: 46.2494 - val_loss: 46.6575\n",
      "Epoch 168/200\n",
      "34924/34924 [==============================] - 53s 2ms/step - loss: 47.1185 - val_loss: 47.1223\n",
      "Epoch 169/200\n",
      "34924/34924 [==============================] - 53s 2ms/step - loss: 45.9335 - val_loss: 48.7085\n",
      "Epoch 170/200\n",
      "34924/34924 [==============================] - 53s 2ms/step - loss: 46.5654 - val_loss: 46.0887\n",
      "Epoch 171/200\n",
      "34924/34924 [==============================] - 53s 2ms/step - loss: 44.3743 - val_loss: 45.6323\n",
      "Epoch 172/200\n",
      "34924/34924 [==============================] - 53s 2ms/step - loss: 44.5531 - val_loss: 46.3817\n",
      "Epoch 173/200\n",
      "34924/34924 [==============================] - 53s 2ms/step - loss: 44.9477 - val_loss: 47.6625\n",
      "Epoch 174/200\n",
      "34924/34924 [==============================] - 53s 2ms/step - loss: 44.8704 - val_loss: 46.0287\n",
      "Epoch 175/200\n",
      "34924/34924 [==============================] - 53s 2ms/step - loss: 45.2884 - val_loss: 45.1533\n",
      "Epoch 176/200\n",
      "34924/34924 [==============================] - 53s 2ms/step - loss: 50.4733 - val_loss: 48.9759\n",
      "Epoch 177/200\n",
      "34924/34924 [==============================] - 53s 2ms/step - loss: 46.8703 - val_loss: 47.1045\n",
      "Epoch 178/200\n",
      "34924/34924 [==============================] - 53s 2ms/step - loss: 45.6535 - val_loss: 51.1492\n",
      "Epoch 179/200\n",
      "34924/34924 [==============================] - 53s 2ms/step - loss: 45.9259 - val_loss: 46.0352\n",
      "Epoch 180/200\n",
      "34924/34924 [==============================] - 53s 2ms/step - loss: 44.5334 - val_loss: 45.7231\n",
      "Epoch 181/200\n",
      "34924/34924 [==============================] - 53s 2ms/step - loss: 46.2400 - val_loss: 51.2578\n",
      "Epoch 182/200\n",
      "34924/34924 [==============================] - 54s 2ms/step - loss: 47.2176 - val_loss: 47.1061\n",
      "Epoch 183/200\n",
      "34924/34924 [==============================] - 53s 2ms/step - loss: 48.3756 - val_loss: 50.1997\n",
      "Epoch 184/200\n",
      "34924/34924 [==============================] - 54s 2ms/step - loss: 47.8413 - val_loss: 47.6417\n",
      "Epoch 185/200\n",
      "34924/34924 [==============================] - 53s 2ms/step - loss: 47.6899 - val_loss: 48.2818\n",
      "Epoch 186/200\n",
      "34924/34924 [==============================] - 53s 2ms/step - loss: 47.1699 - val_loss: 49.2285\n",
      "Epoch 187/200\n",
      "34924/34924 [==============================] - 53s 2ms/step - loss: 46.1684 - val_loss: 47.8670\n",
      "Epoch 188/200\n",
      "34924/34924 [==============================] - 53s 2ms/step - loss: 45.9221 - val_loss: 46.4206\n",
      "Epoch 189/200\n",
      "34924/34924 [==============================] - 53s 2ms/step - loss: 45.5333 - val_loss: 46.6891\n",
      "Epoch 190/200\n",
      "34924/34924 [==============================] - 53s 2ms/step - loss: 44.4934 - val_loss: 45.0369\n",
      "Epoch 191/200\n",
      "34924/34924 [==============================] - 53s 2ms/step - loss: 44.1723 - val_loss: 44.9971\n",
      "Epoch 192/200\n",
      "34924/34924 [==============================] - 53s 2ms/step - loss: 44.4473 - val_loss: 46.4908\n",
      "Epoch 193/200\n",
      "34924/34924 [==============================] - 53s 2ms/step - loss: 45.5872 - val_loss: 47.4453\n",
      "Epoch 194/200\n",
      "34924/34924 [==============================] - 53s 2ms/step - loss: 45.3412 - val_loss: 45.6148\n",
      "Epoch 195/200\n",
      "34924/34924 [==============================] - 53s 2ms/step - loss: 44.3142 - val_loss: 44.4903\n",
      "Epoch 196/200\n",
      "34924/34924 [==============================] - 53s 2ms/step - loss: 44.2237 - val_loss: 45.1111\n",
      "Epoch 197/200\n",
      "34924/34924 [==============================] - 53s 2ms/step - loss: 43.9672 - val_loss: 44.7893\n",
      "Epoch 198/200\n",
      "34924/34924 [==============================] - 53s 2ms/step - loss: 44.2791 - val_loss: 44.6544\n",
      "Epoch 199/200\n",
      "34924/34924 [==============================] - 54s 2ms/step - loss: 44.4196 - val_loss: 46.4740\n",
      "Epoch 200/200\n",
      "34924/34924 [==============================] - 53s 2ms/step - loss: 46.6317 - val_loss: 47.6735\n"
     ]
    }
   ],
   "source": [
    "history = model.fit(train_x, train_y,\n",
    "                    batch_size = 128,\n",
    "                    epochs=200,\n",
    "                    validation_data=(test_x, test_y))"
   ]
  },
  {
   "cell_type": "code",
   "execution_count": 49,
   "metadata": {},
   "outputs": [
    {
     "data": {
      "text/plain": [
       "<matplotlib.legend.Legend at 0x3c27c1d240>"
      ]
     },
     "execution_count": 49,
     "metadata": {},
     "output_type": "execute_result"
    },
    {
     "data": {
      "image/png": "[encoded data removed]",
      "text/plain": [
       "<matplotlib.figure.Figure at 0x3c27c0fe10>"
      ]
     },
     "metadata": {},
     "output_type": "display_data"
    }
   ],
   "source": [
    "plt.plot(history.epoch, history.history.get('loss'), 'y', label='Training loss')\n",
    "plt.plot(history.epoch, history.history.get('val_loss'), 'b', label='Test loss')\n",
    "plt.legend()"
   ]
  },
  {
   "cell_type": "code",
   "execution_count": 68,
   "metadata": {},
   "outputs": [],
   "source": [
    "model = keras.Sequential()\n",
    "model.add(layers.LSTM(32, input_shape=(train_x.shape[1:]), return_sequences=True))\n",
    "model.add(layers.LSTM(32, return_sequences=True))\n",
    "model.add(layers.LSTM(32))\n",
    "model.add(layers.Dense(1))"
   ]
  },
  {
   "cell_type": "code",
   "execution_count": 69,
   "metadata": {},
   "outputs": [],
   "source": [
    "model.compile(optimizer=keras.optimizers.Adam(), loss='mae')"
   ]
  },
  {
   "cell_type": "code",
   "execution_count": 70,
   "metadata": {},
   "outputs": [],
   "source": [
    "learning_rate_reduction = keras.callbacks.ReduceLROnPlateau(monitor='val_loss', patience=3, factor=0.5, min_lr=0.00001)"
   ]
  },
  {
   "cell_type": "code",
   "execution_count": 71,
   "metadata": {},
   "outputs": [
    {
     "name": "stdout",
     "output_type": "stream",
     "text": [
      "Train on 34924 samples, validate on 8732 samples\n",
      "Epoch 1/200\n",
      "34924/34924 [==============================] - 163s 5ms/step - loss: 87.8405 - val_loss: 82.4943\n",
      "Epoch 2/200\n",
      "34924/34924 [==============================] - 161s 5ms/step - loss: 80.6917 - val_loss: 77.5596\n",
      "Epoch 3/200\n",
      "34924/34924 [==============================] - 158s 5ms/step - loss: 76.5511 - val_loss: 73.9945\n",
      "Epoch 4/200\n",
      "34924/34924 [==============================] - 157s 5ms/step - loss: 73.4437 - val_loss: 71.2060\n",
      "Epoch 5/200\n",
      "34924/34924 [==============================] - 157s 5ms/step - loss: 71.0459 - val_loss: 69.0802\n",
      "Epoch 6/200\n",
      "34924/34924 [==============================] - 157s 5ms/step - loss: 69.2386 - val_loss: 67.5249\n",
      "Epoch 7/200\n",
      "34924/34924 [==============================] - 157s 4ms/step - loss: 67.9378 - val_loss: 66.4430\n",
      "Epoch 8/200\n",
      "34924/34924 [==============================] - 158s 5ms/step - loss: 67.0219 - val_loss: 65.6854\n",
      "Epoch 9/200\n",
      "34924/34924 [==============================] - 157s 5ms/step - loss: 66.3867 - val_loss: 65.1777\n",
      "Epoch 10/200\n",
      "34924/34924 [==============================] - 160s 5ms/step - loss: 65.9632 - val_loss: 64.8495\n",
      "Epoch 11/200\n",
      "34924/34924 [==============================] - 159s 5ms/step - loss: 65.6911 - val_loss: 64.6572\n",
      "Epoch 12/200\n",
      "34924/34924 [==============================] - 157s 5ms/step - loss: 65.5258 - val_loss: 64.5507\n",
      "Epoch 13/200\n",
      "34924/34924 [==============================] - 159s 5ms/step - loss: 65.4348 - val_loss: 64.5012\n",
      "Epoch 14/200\n",
      "34924/34924 [==============================] - 157s 5ms/step - loss: 65.3939 - val_loss: 64.4842\n",
      "Epoch 15/200\n",
      "34924/34924 [==============================] - 157s 4ms/step - loss: 65.3759 - val_loss: 64.4787\n",
      "Epoch 16/200\n",
      "34924/34924 [==============================] - 157s 4ms/step - loss: 64.9351 - val_loss: 61.8453\n",
      "Epoch 17/200\n",
      "34924/34924 [==============================] - 157s 4ms/step - loss: 61.7340 - val_loss: 60.0546\n",
      "Epoch 18/200\n",
      "34924/34924 [==============================] - 158s 5ms/step - loss: 60.2369 - val_loss: 59.2183\n",
      "Epoch 19/200\n",
      "34924/34924 [==============================] - 157s 5ms/step - loss: 59.0186 - val_loss: 58.5840\n",
      "Epoch 20/200\n",
      "34924/34924 [==============================] - 161s 5ms/step - loss: 58.0281 - val_loss: 57.2853\n",
      "Epoch 21/200\n",
      "34924/34924 [==============================] - 161s 5ms/step - loss: 57.1500 - val_loss: 56.8527\n",
      "Epoch 22/200\n",
      "34924/34924 [==============================] - 158s 5ms/step - loss: 56.4294 - val_loss: 55.7949\n",
      "Epoch 23/200\n",
      "34924/34924 [==============================] - 158s 5ms/step - loss: 55.4558 - val_loss: 54.3863\n",
      "Epoch 24/200\n",
      "34924/34924 [==============================] - 157s 5ms/step - loss: 54.4771 - val_loss: 53.8751\n",
      "Epoch 25/200\n",
      "34924/34924 [==============================] - 157s 5ms/step - loss: 53.9402 - val_loss: 53.8628\n",
      "Epoch 26/200\n",
      "34924/34924 [==============================] - 158s 5ms/step - loss: 53.5754 - val_loss: 53.1969\n",
      "Epoch 27/200\n",
      "34924/34924 [==============================] - 158s 5ms/step - loss: 53.0977 - val_loss: 53.6605\n",
      "Epoch 28/200\n",
      "34924/34924 [==============================] - 159s 5ms/step - loss: 52.1871 - val_loss: 51.5380\n",
      "Epoch 29/200\n",
      "34924/34924 [==============================] - 156s 4ms/step - loss: 51.0436 - val_loss: 50.8424\n",
      "Epoch 30/200\n",
      "34924/34924 [==============================] - 159s 5ms/step - loss: 50.3013 - val_loss: 49.2818\n",
      "Epoch 31/200\n",
      "34924/34924 [==============================] - 159s 5ms/step - loss: 49.4329 - val_loss: 49.0728\n",
      "Epoch 32/200\n",
      "34924/34924 [==============================] - 158s 5ms/step - loss: 48.7429 - val_loss: 49.8049\n",
      "Epoch 33/200\n",
      "34924/34924 [==============================] - 159s 5ms/step - loss: 48.3620 - val_loss: 47.9727\n",
      "Epoch 34/200\n",
      "34924/34924 [==============================] - 159s 5ms/step - loss: 47.2094 - val_loss: 46.6146\n",
      "Epoch 35/200\n",
      "34924/34924 [==============================] - 154s 4ms/step - loss: 46.9118 - val_loss: 46.8837\n",
      "Epoch 36/200\n",
      "34924/34924 [==============================] - 156s 4ms/step - loss: 46.0084 - val_loss: 45.7500\n",
      "Epoch 37/200\n",
      "34924/34924 [==============================] - 156s 4ms/step - loss: 46.6040 - val_loss: 46.5981\n",
      "Epoch 38/200\n",
      "34924/34924 [==============================] - 157s 4ms/step - loss: 45.1017 - val_loss: 44.8864\n",
      "Epoch 39/200\n",
      "34924/34924 [==============================] - 156s 4ms/step - loss: 45.8290 - val_loss: 45.2289\n",
      "Epoch 40/200\n",
      "34924/34924 [==============================] - 156s 4ms/step - loss: 43.7821 - val_loss: 44.6590\n",
      "Epoch 41/200\n",
      "34924/34924 [==============================] - 156s 4ms/step - loss: 43.4007 - val_loss: 43.3394\n",
      "Epoch 42/200\n",
      "34924/34924 [==============================] - 156s 4ms/step - loss: 42.9280 - val_loss: 42.2757\n",
      "Epoch 43/200\n",
      "34924/34924 [==============================] - 157s 4ms/step - loss: 42.0025 - val_loss: 42.2274\n",
      "Epoch 44/200\n",
      "34924/34924 [==============================] - 156s 4ms/step - loss: 41.1916 - val_loss: 40.9974\n",
      "Epoch 45/200\n",
      "34924/34924 [==============================] - 156s 4ms/step - loss: 41.1073 - val_loss: 40.5393\n",
      "Epoch 46/200\n",
      "34924/34924 [==============================] - 156s 4ms/step - loss: 40.0796 - val_loss: 41.3901\n",
      "Epoch 47/200\n",
      "34924/34924 [==============================] - 156s 4ms/step - loss: 39.6626 - val_loss: 39.1993\n",
      "Epoch 48/200\n",
      "34924/34924 [==============================] - 156s 4ms/step - loss: 39.9653 - val_loss: 40.2011\n",
      "Epoch 49/200\n",
      "34924/34924 [==============================] - 156s 4ms/step - loss: 39.1594 - val_loss: 41.0163\n",
      "Epoch 50/200\n",
      "34924/34924 [==============================] - 156s 4ms/step - loss: 38.6385 - val_loss: 39.6772\n",
      "Epoch 51/200\n",
      "34924/34924 [==============================] - 155s 4ms/step - loss: 38.1444 - val_loss: 37.2995\n",
      "Epoch 52/200\n",
      "34924/34924 [==============================] - 156s 4ms/step - loss: 35.8881 - val_loss: 36.3983\n",
      "Epoch 53/200\n",
      "34924/34924 [==============================] - 156s 4ms/step - loss: 35.1464 - val_loss: 35.8012\n",
      "Epoch 54/200\n",
      "34924/34924 [==============================] - 156s 4ms/step - loss: 35.4800 - val_loss: 35.8199\n",
      "Epoch 55/200\n",
      "34924/34924 [==============================] - 156s 4ms/step - loss: 34.8973 - val_loss: 35.3554\n",
      "Epoch 56/200\n",
      "34924/34924 [==============================] - 155s 4ms/step - loss: 34.4875 - val_loss: 35.3016\n",
      "Epoch 57/200\n",
      "34924/34924 [==============================] - 159s 5ms/step - loss: 34.1063 - val_loss: 35.9372\n",
      "Epoch 58/200\n",
      "34924/34924 [==============================] - 157s 4ms/step - loss: 34.6396 - val_loss: 35.0943\n",
      "Epoch 59/200\n",
      "34924/34924 [==============================] - 157s 4ms/step - loss: 33.9070 - val_loss: 34.8558\n",
      "Epoch 60/200\n",
      "34924/34924 [==============================] - 157s 4ms/step - loss: 33.1440 - val_loss: 33.7135\n",
      "Epoch 61/200\n",
      "34924/34924 [==============================] - 157s 4ms/step - loss: 32.4932 - val_loss: 33.5326\n",
      "Epoch 62/200\n",
      "34924/34924 [==============================] - 157s 4ms/step - loss: 32.1524 - val_loss: 33.3036\n",
      "Epoch 63/200\n",
      "34924/34924 [==============================] - 157s 4ms/step - loss: 31.9491 - val_loss: 32.8891\n",
      "Epoch 64/200\n",
      "34924/34924 [==============================] - 157s 5ms/step - loss: 33.9275 - val_loss: 33.5527\n",
      "Epoch 65/200\n",
      "34924/34924 [==============================] - 157s 5ms/step - loss: 32.0755 - val_loss: 33.0286\n",
      "Epoch 66/200\n",
      "34924/34924 [==============================] - 157s 4ms/step - loss: 31.5906 - val_loss: 33.2328\n",
      "Epoch 67/200\n",
      "34924/34924 [==============================] - 157s 4ms/step - loss: 30.7067 - val_loss: 31.8863\n",
      "Epoch 68/200\n",
      "34924/34924 [==============================] - 157s 5ms/step - loss: 30.2050 - val_loss: 31.4478\n",
      "Epoch 69/200\n",
      "34924/34924 [==============================] - 157s 5ms/step - loss: 30.7244 - val_loss: 31.8741\n",
      "Epoch 70/200\n",
      "34924/34924 [==============================] - 157s 4ms/step - loss: 29.9824 - val_loss: 31.5770\n",
      "Epoch 71/200\n",
      "34924/34924 [==============================] - 157s 4ms/step - loss: 29.6180 - val_loss: 31.3247\n",
      "Epoch 72/200\n",
      "34924/34924 [==============================] - 157s 4ms/step - loss: 29.4984 - val_loss: 31.1848\n",
      "Epoch 73/200\n",
      "34924/34924 [==============================] - 157s 4ms/step - loss: 29.4798 - val_loss: 31.1876\n",
      "Epoch 74/200\n",
      "34924/34924 [==============================] - 157s 4ms/step - loss: 29.1300 - val_loss: 30.9212\n",
      "Epoch 75/200\n"
     ]
    },
    {
     "name": "stdout",
     "output_type": "stream",
     "text": [
      "34924/34924 [==============================] - 156s 4ms/step - loss: 29.2146 - val_loss: 30.7731\n",
      "Epoch 76/200\n",
      "34924/34924 [==============================] - 156s 4ms/step - loss: 28.8769 - val_loss: 30.5097\n",
      "Epoch 77/200\n",
      "34924/34924 [==============================] - 158s 5ms/step - loss: 28.8874 - val_loss: 30.6552\n",
      "Epoch 78/200\n",
      "34924/34924 [==============================] - 156s 4ms/step - loss: 28.7219 - val_loss: 30.4542\n",
      "Epoch 79/200\n",
      "34924/34924 [==============================] - 156s 4ms/step - loss: 28.5923 - val_loss: 30.4131\n",
      "Epoch 80/200\n",
      "34924/34924 [==============================] - 156s 4ms/step - loss: 28.5602 - val_loss: 30.1668\n",
      "Epoch 81/200\n",
      "34924/34924 [==============================] - 157s 4ms/step - loss: 28.4362 - val_loss: 29.9731\n",
      "Epoch 82/200\n",
      "34924/34924 [==============================] - 156s 4ms/step - loss: 28.4768 - val_loss: 30.1384\n",
      "Epoch 83/200\n",
      "34924/34924 [==============================] - 157s 4ms/step - loss: 28.0526 - val_loss: 30.0570\n",
      "Epoch 84/200\n",
      "34924/34924 [==============================] - 157s 4ms/step - loss: 28.3822 - val_loss: 29.8240\n",
      "Epoch 85/200\n",
      "34924/34924 [==============================] - 156s 4ms/step - loss: 28.1868 - val_loss: 29.8040\n",
      "Epoch 86/200\n",
      "34924/34924 [==============================] - 156s 4ms/step - loss: 27.8294 - val_loss: 29.5594\n",
      "Epoch 87/200\n",
      "34924/34924 [==============================] - 156s 4ms/step - loss: 27.7728 - val_loss: 29.3766\n",
      "Epoch 88/200\n",
      "34924/34924 [==============================] - 156s 4ms/step - loss: 27.5214 - val_loss: 29.3947\n",
      "Epoch 89/200\n",
      "34924/34924 [==============================] - 157s 4ms/step - loss: 27.6113 - val_loss: 29.5321\n",
      "Epoch 90/200\n",
      "34924/34924 [==============================] - 157s 4ms/step - loss: 27.6600 - val_loss: 29.3398\n",
      "Epoch 91/200\n",
      "34924/34924 [==============================] - 156s 4ms/step - loss: 27.6332 - val_loss: 29.3860\n",
      "Epoch 92/200\n",
      "34924/34924 [==============================] - 157s 4ms/step - loss: 27.7468 - val_loss: 29.8121\n",
      "Epoch 93/200\n",
      "34924/34924 [==============================] - 156s 4ms/step - loss: 27.3588 - val_loss: 29.6950\n",
      "Epoch 94/200\n",
      "34924/34924 [==============================] - 157s 4ms/step - loss: 26.7572 - val_loss: 28.9750\n",
      "Epoch 95/200\n",
      "34924/34924 [==============================] - 156s 4ms/step - loss: 26.5647 - val_loss: 28.6839\n",
      "Epoch 96/200\n",
      "34924/34924 [==============================] - 157s 4ms/step - loss: 26.3616 - val_loss: 28.8018\n",
      "Epoch 97/200\n",
      "34924/34924 [==============================] - 156s 4ms/step - loss: 26.4602 - val_loss: 28.6652\n",
      "Epoch 98/200\n",
      "34924/34924 [==============================] - 156s 4ms/step - loss: 26.3115 - val_loss: 28.6764\n",
      "Epoch 99/200\n",
      "34924/34924 [==============================] - 156s 4ms/step - loss: 26.2700 - val_loss: 28.5954\n",
      "Epoch 100/200\n",
      "34924/34924 [==============================] - 157s 4ms/step - loss: 26.2099 - val_loss: 28.7468\n",
      "Epoch 101/200\n",
      "34924/34924 [==============================] - 156s 4ms/step - loss: 26.0541 - val_loss: 28.4325\n",
      "Epoch 102/200\n",
      "34924/34924 [==============================] - 156s 4ms/step - loss: 26.1041 - val_loss: 28.4213\n",
      "Epoch 103/200\n",
      "34924/34924 [==============================] - 156s 4ms/step - loss: 26.0423 - val_loss: 28.3486\n",
      "Epoch 104/200\n",
      "34924/34924 [==============================] - 157s 4ms/step - loss: 25.9162 - val_loss: 28.4927\n",
      "Epoch 105/200\n",
      "34924/34924 [==============================] - 157s 4ms/step - loss: 25.9310 - val_loss: 28.4148\n",
      "Epoch 106/200\n",
      "34924/34924 [==============================] - 156s 4ms/step - loss: 25.9597 - val_loss: 28.4460\n",
      "Epoch 107/200\n",
      "34924/34924 [==============================] - 156s 4ms/step - loss: 25.5638 - val_loss: 28.0680\n",
      "Epoch 108/200\n",
      "34924/34924 [==============================] - 157s 4ms/step - loss: 25.4201 - val_loss: 28.0585\n",
      "Epoch 109/200\n",
      "34924/34924 [==============================] - 156s 4ms/step - loss: 25.3818 - val_loss: 28.0104\n",
      "Epoch 110/200\n",
      "34924/34924 [==============================] - 157s 4ms/step - loss: 25.3149 - val_loss: 28.0459\n",
      "Epoch 111/200\n",
      "34924/34924 [==============================] - 157s 4ms/step - loss: 25.2976 - val_loss: 28.0588\n",
      "Epoch 112/200\n",
      "34924/34924 [==============================] - 157s 4ms/step - loss: 25.2890 - val_loss: 28.0351\n",
      "Epoch 113/200\n",
      "34924/34924 [==============================] - 156s 4ms/step - loss: 25.0883 - val_loss: 27.9628\n",
      "Epoch 114/200\n",
      "34924/34924 [==============================] - 156s 4ms/step - loss: 25.0297 - val_loss: 27.9290\n",
      "Epoch 115/200\n",
      "34924/34924 [==============================] - 156s 4ms/step - loss: 25.0033 - val_loss: 27.9426\n",
      "Epoch 116/200\n",
      "34924/34924 [==============================] - 157s 4ms/step - loss: 24.9706 - val_loss: 27.8734\n",
      "Epoch 117/200\n",
      "34924/34924 [==============================] - 156s 4ms/step - loss: 24.9392 - val_loss: 27.9330\n",
      "Epoch 118/200\n",
      "34924/34924 [==============================] - 156s 4ms/step - loss: 24.9418 - val_loss: 27.8949\n",
      "Epoch 119/200\n",
      "34924/34924 [==============================] - 156s 4ms/step - loss: 24.9148 - val_loss: 27.8652\n",
      "Epoch 120/200\n",
      "34924/34924 [==============================] - 156s 4ms/step - loss: 24.9021 - val_loss: 27.8287\n",
      "Epoch 121/200\n",
      "34924/34924 [==============================] - 157s 4ms/step - loss: 24.9045 - val_loss: 27.7990\n",
      "Epoch 122/200\n",
      "34924/34924 [==============================] - 156s 4ms/step - loss: 24.8673 - val_loss: 27.7743\n",
      "Epoch 123/200\n",
      "34924/34924 [==============================] - 156s 4ms/step - loss: 24.8543 - val_loss: 27.7795\n",
      "Epoch 124/200\n",
      "34924/34924 [==============================] - 157s 4ms/step - loss: 24.8294 - val_loss: 27.7836\n",
      "Epoch 125/200\n",
      "34924/34924 [==============================] - 156s 4ms/step - loss: 24.8795 - val_loss: 28.0174\n",
      "Epoch 126/200\n",
      "34924/34924 [==============================] - 156s 4ms/step - loss: 24.9397 - val_loss: 27.8859\n",
      "Epoch 127/200\n",
      "34924/34924 [==============================] - 156s 4ms/step - loss: 24.7987 - val_loss: 27.8696\n",
      "Epoch 128/200\n",
      "34924/34924 [==============================] - 157s 4ms/step - loss: 24.7379 - val_loss: 27.8304\n",
      "Epoch 129/200\n",
      "34924/34924 [==============================] - 157s 4ms/step - loss: 24.6914 - val_loss: 27.8171\n",
      "Epoch 130/200\n",
      "34924/34924 [==============================] - 157s 4ms/step - loss: 24.6738 - val_loss: 27.8071\n",
      "Epoch 131/200\n",
      "34924/34924 [==============================] - 160s 5ms/step - loss: 24.6545 - val_loss: 27.7954\n",
      "Epoch 132/200\n",
      "34924/34924 [==============================] - 161s 5ms/step - loss: 24.6547 - val_loss: 27.7805\n",
      "Epoch 133/200\n",
      "34924/34924 [==============================] - 156s 4ms/step - loss: 24.6424 - val_loss: 27.7715\n",
      "Epoch 134/200\n",
      "34924/34924 [==============================] - 157s 4ms/step - loss: 24.6315 - val_loss: 27.7660\n",
      "Epoch 135/200\n",
      "34924/34924 [==============================] - 157s 4ms/step - loss: 24.6213 - val_loss: 27.7356\n",
      "Epoch 136/200\n",
      "34924/34924 [==============================] - 157s 4ms/step - loss: 24.6131 - val_loss: 27.7492\n",
      "Epoch 137/200\n",
      "34924/34924 [==============================] - 156s 4ms/step - loss: 24.6058 - val_loss: 27.7388\n",
      "Epoch 138/200\n",
      "34924/34924 [==============================] - 156s 4ms/step - loss: 24.5993 - val_loss: 27.7341\n",
      "Epoch 139/200\n",
      "34924/34924 [==============================] - 157s 4ms/step - loss: 24.5971 - val_loss: 27.7368\n",
      "Epoch 140/200\n",
      "34924/34924 [==============================] - 157s 4ms/step - loss: 24.5831 - val_loss: 27.7167\n",
      "Epoch 141/200\n",
      "34924/34924 [==============================] - 157s 4ms/step - loss: 24.5763 - val_loss: 27.7295\n",
      "Epoch 142/200\n",
      "34924/34924 [==============================] - 157s 4ms/step - loss: 24.5754 - val_loss: 27.7069\n",
      "Epoch 143/200\n",
      "34924/34924 [==============================] - 156s 4ms/step - loss: 24.5631 - val_loss: 27.7101\n",
      "Epoch 144/200\n",
      "34924/34924 [==============================] - 157s 4ms/step - loss: 24.5583 - val_loss: 27.7103\n",
      "Epoch 145/200\n",
      "34924/34924 [==============================] - 157s 4ms/step - loss: 24.5532 - val_loss: 27.6947\n",
      "Epoch 146/200\n",
      "34924/34924 [==============================] - 157s 4ms/step - loss: 24.5473 - val_loss: 27.6975\n",
      "Epoch 147/200\n",
      "34924/34924 [==============================] - 156s 4ms/step - loss: 24.5386 - val_loss: 27.6894\n",
      "Epoch 148/200\n",
      "34924/34924 [==============================] - 157s 4ms/step - loss: 24.5419 - val_loss: 27.6758\n",
      "Epoch 149/200\n",
      "34924/34924 [==============================] - 156s 4ms/step - loss: 24.5277 - val_loss: 27.6756\n",
      "Epoch 150/200\n",
      "34924/34924 [==============================] - 156s 4ms/step - loss: 24.5285 - val_loss: 27.6836\n",
      "Epoch 151/200\n",
      "34924/34924 [==============================] - 156s 4ms/step - loss: 24.5155 - val_loss: 27.6831\n",
      "Epoch 152/200\n",
      "34924/34924 [==============================] - 156s 4ms/step - loss: 24.5139 - val_loss: 27.6869\n",
      "Epoch 153/200\n",
      "34924/34924 [==============================] - 156s 4ms/step - loss: 24.5154 - val_loss: 27.6880\n",
      "Epoch 154/200\n",
      "34924/34924 [==============================] - 157s 4ms/step - loss: 24.5048 - val_loss: 27.6827\n",
      "Epoch 155/200\n",
      "34924/34924 [==============================] - 157s 4ms/step - loss: 24.5062 - val_loss: 27.6682\n",
      "Epoch 156/200\n",
      "34924/34924 [==============================] - 157s 4ms/step - loss: 24.5246 - val_loss: 27.7194\n",
      "Epoch 157/200\n",
      "34924/34924 [==============================] - 157s 4ms/step - loss: 24.5202 - val_loss: 27.7024\n",
      "Epoch 158/200\n",
      "34924/34924 [==============================] - 157s 4ms/step - loss: 24.4927 - val_loss: 27.6837\n",
      "Epoch 159/200\n",
      "34924/34924 [==============================] - 157s 4ms/step - loss: 24.4843 - val_loss: 27.6774\n",
      "Epoch 160/200\n",
      "34924/34924 [==============================] - 156s 4ms/step - loss: 24.4773 - val_loss: 27.6619\n",
      "Epoch 161/200\n",
      "34924/34924 [==============================] - 156s 4ms/step - loss: 24.4704 - val_loss: 27.6793\n",
      "Epoch 162/200\n",
      "34924/34924 [==============================] - 157s 4ms/step - loss: 24.4621 - val_loss: 27.6610\n",
      "Epoch 163/200\n",
      " 5248/34924 [===>..........................] - ETA: 2:07 - loss: 23.9949"
     ]
    },
    {
     "ename": "KeyboardInterrupt",
     "evalue": "",
     "output_type": "error",
     "traceback": [
      "\u001B[1;31m---------------------------------------------------------------------------\u001B[0m",
      "\u001B[1;31mKeyboardInterrupt\u001B[0m                         Traceback (most recent call last)",
      "\u001B[1;32m<ipython-input-71-fe15f8a4a5b7>\u001B[0m in \u001B[0;36m<module>\u001B[1;34m()\u001B[0m\n\u001B[0;32m      3\u001B[0m                     \u001B[0mepochs\u001B[0m\u001B[1;33m=\u001B[0m\u001B[1;36m200\u001B[0m\u001B[1;33m,\u001B[0m\u001B[1;33m\u001B[0m\u001B[0m\n\u001B[0;32m      4\u001B[0m                     \u001B[0mvalidation_data\u001B[0m\u001B[1;33m=\u001B[0m\u001B[1;33m(\u001B[0m\u001B[0mtest_x\u001B[0m\u001B[1;33m,\u001B[0m \u001B[0mtest_y\u001B[0m\u001B[1;33m)\u001B[0m\u001B[1;33m,\u001B[0m\u001B[1;33m\u001B[0m\u001B[0m\n\u001B[1;32m----> 5\u001B[1;33m                     callbacks=[learning_rate_reduction])\n\u001B[0m",
      "\u001B[1;32mH:\\Anaconda\\lib\\site-packages\\tensorflow\\python\\keras\\engine\\training.py\u001B[0m in \u001B[0;36mfit\u001B[1;34m(self, x, y, batch_size, epochs, verbose, callbacks, validation_split, validation_data, shuffle, class_weight, sample_weight, initial_epoch, steps_per_epoch, validation_steps, **kwargs)\u001B[0m\n\u001B[0;32m   1361\u001B[0m           \u001B[0minitial_epoch\u001B[0m\u001B[1;33m=\u001B[0m\u001B[0minitial_epoch\u001B[0m\u001B[1;33m,\u001B[0m\u001B[1;33m\u001B[0m\u001B[0m\n\u001B[0;32m   1362\u001B[0m           \u001B[0msteps_per_epoch\u001B[0m\u001B[1;33m=\u001B[0m\u001B[0msteps_per_epoch\u001B[0m\u001B[1;33m,\u001B[0m\u001B[1;33m\u001B[0m\u001B[0m\n\u001B[1;32m-> 1363\u001B[1;33m           validation_steps=validation_steps)\n\u001B[0m\u001B[0;32m   1364\u001B[0m \u001B[1;33m\u001B[0m\u001B[0m\n\u001B[0;32m   1365\u001B[0m   def evaluate(self,\n",
      "\u001B[1;32mH:\\Anaconda\\lib\\site-packages\\tensorflow\\python\\keras\\engine\\training_arrays.py\u001B[0m in \u001B[0;36mfit_loop\u001B[1;34m(model, inputs, targets, sample_weights, batch_size, epochs, verbose, callbacks, val_inputs, val_targets, val_sample_weights, shuffle, callback_metrics, initial_epoch, steps_per_epoch, validation_steps)\u001B[0m\n\u001B[0;32m    262\u001B[0m           \u001B[0mins_batch\u001B[0m\u001B[1;33m[\u001B[0m\u001B[0mi\u001B[0m\u001B[1;33m]\u001B[0m \u001B[1;33m=\u001B[0m \u001B[0mins_batch\u001B[0m\u001B[1;33m[\u001B[0m\u001B[0mi\u001B[0m\u001B[1;33m]\u001B[0m\u001B[1;33m.\u001B[0m\u001B[0mtoarray\u001B[0m\u001B[1;33m(\u001B[0m\u001B[1;33m)\u001B[0m\u001B[1;33m\u001B[0m\u001B[0m\n\u001B[0;32m    263\u001B[0m \u001B[1;33m\u001B[0m\u001B[0m\n\u001B[1;32m--> 264\u001B[1;33m         \u001B[0mouts\u001B[0m \u001B[1;33m=\u001B[0m \u001B[0mf\u001B[0m\u001B[1;33m(\u001B[0m\u001B[0mins_batch\u001B[0m\u001B[1;33m)\u001B[0m\u001B[1;33m\u001B[0m\u001B[0m\n\u001B[0m\u001B[0;32m    265\u001B[0m         \u001B[1;32mif\u001B[0m \u001B[1;32mnot\u001B[0m \u001B[0misinstance\u001B[0m\u001B[1;33m(\u001B[0m\u001B[0mouts\u001B[0m\u001B[1;33m,\u001B[0m \u001B[0mlist\u001B[0m\u001B[1;33m)\u001B[0m\u001B[1;33m:\u001B[0m\u001B[1;33m\u001B[0m\u001B[0m\n\u001B[0;32m    266\u001B[0m           \u001B[0mouts\u001B[0m \u001B[1;33m=\u001B[0m \u001B[1;33m[\u001B[0m\u001B[0mouts\u001B[0m\u001B[1;33m]\u001B[0m\u001B[1;33m\u001B[0m\u001B[0m\n",
      "\u001B[1;32mH:\\Anaconda\\lib\\site-packages\\tensorflow\\python\\keras\\backend.py\u001B[0m in \u001B[0;36m__call__\u001B[1;34m(self, inputs)\u001B[0m\n\u001B[0;32m   2912\u001B[0m       \u001B[0mself\u001B[0m\u001B[1;33m.\u001B[0m\u001B[0m_make_callable\u001B[0m\u001B[1;33m(\u001B[0m\u001B[0mfeed_arrays\u001B[0m\u001B[1;33m,\u001B[0m \u001B[0mfeed_symbols\u001B[0m\u001B[1;33m,\u001B[0m \u001B[0msymbol_vals\u001B[0m\u001B[1;33m,\u001B[0m \u001B[0msession\u001B[0m\u001B[1;33m)\u001B[0m\u001B[1;33m\u001B[0m\u001B[0m\n\u001B[0;32m   2913\u001B[0m \u001B[1;33m\u001B[0m\u001B[0m\n\u001B[1;32m-> 2914\u001B[1;33m     \u001B[0mfetched\u001B[0m \u001B[1;33m=\u001B[0m \u001B[0mself\u001B[0m\u001B[1;33m.\u001B[0m\u001B[0m_callable_fn\u001B[0m\u001B[1;33m(\u001B[0m\u001B[1;33m*\u001B[0m\u001B[0marray_vals\u001B[0m\u001B[1;33m)\u001B[0m\u001B[1;33m\u001B[0m\u001B[0m\n\u001B[0m\u001B[0;32m   2915\u001B[0m     \u001B[0mself\u001B[0m\u001B[1;33m.\u001B[0m\u001B[0m_call_fetch_callbacks\u001B[0m\u001B[1;33m(\u001B[0m\u001B[0mfetched\u001B[0m\u001B[1;33m[\u001B[0m\u001B[1;33m-\u001B[0m\u001B[0mlen\u001B[0m\u001B[1;33m(\u001B[0m\u001B[0mself\u001B[0m\u001B[1;33m.\u001B[0m\u001B[0m_fetches\u001B[0m\u001B[1;33m)\u001B[0m\u001B[1;33m:\u001B[0m\u001B[1;33m]\u001B[0m\u001B[1;33m)\u001B[0m\u001B[1;33m\u001B[0m\u001B[0m\n\u001B[0;32m   2916\u001B[0m     \u001B[1;32mreturn\u001B[0m \u001B[0mfetched\u001B[0m\u001B[1;33m[\u001B[0m\u001B[1;33m:\u001B[0m\u001B[0mlen\u001B[0m\u001B[1;33m(\u001B[0m\u001B[0mself\u001B[0m\u001B[1;33m.\u001B[0m\u001B[0moutputs\u001B[0m\u001B[1;33m)\u001B[0m\u001B[1;33m]\u001B[0m\u001B[1;33m\u001B[0m\u001B[0m\n",
      "\u001B[1;32mH:\\Anaconda\\lib\\site-packages\\tensorflow\\python\\client\\session.py\u001B[0m in \u001B[0;36m__call__\u001B[1;34m(self, *args, **kwargs)\u001B[0m\n\u001B[0;32m   1380\u001B[0m           ret = tf_session.TF_SessionRunCallable(\n\u001B[0;32m   1381\u001B[0m               \u001B[0mself\u001B[0m\u001B[1;33m.\u001B[0m\u001B[0m_session\u001B[0m\u001B[1;33m.\u001B[0m\u001B[0m_session\u001B[0m\u001B[1;33m,\u001B[0m \u001B[0mself\u001B[0m\u001B[1;33m.\u001B[0m\u001B[0m_handle\u001B[0m\u001B[1;33m,\u001B[0m \u001B[0margs\u001B[0m\u001B[1;33m,\u001B[0m \u001B[0mstatus\u001B[0m\u001B[1;33m,\u001B[0m\u001B[1;33m\u001B[0m\u001B[0m\n\u001B[1;32m-> 1382\u001B[1;33m               run_metadata_ptr)\n\u001B[0m\u001B[0;32m   1383\u001B[0m         \u001B[1;32mif\u001B[0m \u001B[0mrun_metadata\u001B[0m\u001B[1;33m:\u001B[0m\u001B[1;33m\u001B[0m\u001B[0m\n\u001B[0;32m   1384\u001B[0m           \u001B[0mproto_data\u001B[0m \u001B[1;33m=\u001B[0m \u001B[0mtf_session\u001B[0m\u001B[1;33m.\u001B[0m\u001B[0mTF_GetBuffer\u001B[0m\u001B[1;33m(\u001B[0m\u001B[0mrun_metadata_ptr\u001B[0m\u001B[1;33m)\u001B[0m\u001B[1;33m\u001B[0m\u001B[0m\n",
      "\u001B[1;31mKeyboardInterrupt\u001B[0m: "
     ]
    }
   ],
   "source": [
    "history = model.fit(train_x, train_y,\n",
    "                    batch_size = 128,\n",
    "                    epochs=200,\n",
    "                    validation_data=(test_x, test_y),\n",
    "                    callbacks=[learning_rate_reduction])"
   ]
  },
  {
   "cell_type": "code",
   "execution_count": null,
   "metadata": {},
   "outputs": [],
   "source": []
  }
 ],
 "metadata": {
  "kernelspec": {
   "display_name": "Python 3",
   "language": "python",
   "name": "python3"
  },
  "language_info": {
   "codemirror_mode": {
    "name": "ipython",
    "version": 3
   },
   "file_extension": ".py",
   "mimetype": "text/x-python",
   "name": "python",
   "nbconvert_exporter": "python",
   "pygments_lexer": "ipython3",
   "version": "3.6.7"
  }
 },
 "nbformat": 4,
 "nbformat_minor": 2
}